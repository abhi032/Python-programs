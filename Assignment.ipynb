{
 "cells": [
  {
   "cell_type": "markdown",
   "metadata": {},
   "source": [
    "## 1. Hello World program"
   ]
  },
  {
   "cell_type": "code",
   "execution_count": 1,
   "metadata": {},
   "outputs": [
    {
     "name": "stdout",
     "output_type": "stream",
     "text": [
      "hello world!\n"
     ]
    }
   ],
   "source": [
    "print(\"hello world!\")"
   ]
  },
  {
   "cell_type": "markdown",
   "metadata": {},
   "source": [
    "# 2. To ADD two no."
   ]
  },
  {
   "cell_type": "code",
   "execution_count": 3,
   "metadata": {},
   "outputs": [
    {
     "name": "stdout",
     "output_type": "stream",
     "text": [
      "enter a no:2\n",
      "enter 2nd no:5\n",
      "addition of 2 and 5 is 7\n"
     ]
    }
   ],
   "source": [
    "x=int(input(\"enter a no:\"))\n",
    "y=int(input(\"enter 2nd no:\"))\n",
    "print(\"addition of {} and {} is {}\".format(x,y,x+y))"
   ]
  },
  {
   "cell_type": "markdown",
   "metadata": {},
   "source": [
    "# 3.Square root"
   ]
  },
  {
   "cell_type": "code",
   "execution_count": 6,
   "metadata": {},
   "outputs": [
    {
     "name": "stdout",
     "output_type": "stream",
     "text": [
      "enter a no:2\n",
      "1.4142135623730951\n"
     ]
    }
   ],
   "source": [
    "x=int(input(\"enter a no:\"))\n",
    "k=x**0.5\n",
    "print(k)"
   ]
  },
  {
   "cell_type": "markdown",
   "metadata": {},
   "source": [
    "# 4.Area of Triangle"
   ]
  },
  {
   "cell_type": "code",
   "execution_count": 8,
   "metadata": {},
   "outputs": [
    {
     "name": "stdout",
     "output_type": "stream",
     "text": [
      "triangle must be Rightangle traingle\n",
      "enter the height of triangle:5\n",
      "enter the width of triangle2\n",
      "5.0\n"
     ]
    }
   ],
   "source": [
    "print(\"triangle must be Rightangle traingle\")\n",
    "x=int(input(\"enter the height of triangle:\"))\n",
    "y=int(input(\"enter the width of triangle\"))\n",
    "k=0\n",
    "k=0.5*x*y\n",
    "print(k)"
   ]
  },
  {
   "cell_type": "markdown",
   "metadata": {},
   "source": [
    "# 5.Solve quadratic Equation"
   ]
  },
  {
   "cell_type": "code",
   "execution_count": 14,
   "metadata": {},
   "outputs": [
    {
     "name": "stdout",
     "output_type": "stream",
     "text": [
      "enter the coff. of 2nd degree term:6\n",
      "enter the coff. of 1 degree term:5\n",
      "enter the constant:1\n",
      "1 is imaginary and 1 is real -12.0,-18.0\n"
     ]
    }
   ],
   "source": [
    "x=int(input(\"enter the coff. of 2nd degree term:\"))\n",
    "y=int(input(\"enter the coff. of 1 degree term:\"))\n",
    "z=int(input(\"enter the constant:\"))\n",
    "d=y*y-4*x*z\n",
    "k=-y+d**0.5\n",
    "s=-y-d**0.5\n",
    "m=k//2*x\n",
    "l=s//2*x\n",
    "if m>0 and l>0:\n",
    "    print(\"roots are \",m)\n",
    "else:\n",
    "    print(\"1 is imaginary and 1 is real {},{}\".format(m,l))"
   ]
  },
  {
   "cell_type": "markdown",
   "metadata": {},
   "source": [
    "# 6.Swap two Variables"
   ]
  },
  {
   "cell_type": "code",
   "execution_count": 16,
   "metadata": {},
   "outputs": [
    {
     "name": "stdout",
     "output_type": "stream",
     "text": [
      "enter a no:5\n",
      "enter another no:6\n",
      "After Swapping:\n",
      "x is 6 and y is 5\n"
     ]
    }
   ],
   "source": [
    "x=int(input(\"enter a no:\"))\n",
    "y=int(input(\"enter another no:\"))\n",
    "print(\"After Swapping:\")\n",
    "z=x\n",
    "x=y\n",
    "y=z\n",
    "print(\"x is {} and y is {}\".format(x,y))"
   ]
  },
  {
   "cell_type": "markdown",
   "metadata": {},
   "source": [
    "# 7.Generate a Random No."
   ]
  },
  {
   "cell_type": "code",
   "execution_count": 17,
   "metadata": {},
   "outputs": [
    {
     "name": "stdout",
     "output_type": "stream",
     "text": [
      "random no is : 872\n"
     ]
    }
   ],
   "source": [
    "from random import randrange\n",
    "x=randrange(1,1000)\n",
    "print(\"random no is :\",x)"
   ]
  },
  {
   "cell_type": "markdown",
   "metadata": {},
   "source": [
    "# 8.To convert kilometers into miles"
   ]
  },
  {
   "cell_type": "code",
   "execution_count": 18,
   "metadata": {},
   "outputs": [
    {
     "name": "stdout",
     "output_type": "stream",
     "text": [
      "enter the no of km :1\n",
      "no of miles in 1 km is 0.621\n"
     ]
    }
   ],
   "source": [
    "x=int(input(\"enter the no of km :\"))\n",
    "k=0.621*x\n",
    "print(\"no of miles in {} km is {}\".format(x,k))"
   ]
  },
  {
   "cell_type": "markdown",
   "metadata": {},
   "source": [
    "# 9. To convert celsius into fahrenheit"
   ]
  },
  {
   "cell_type": "code",
   "execution_count": 19,
   "metadata": {},
   "outputs": [
    {
     "name": "stdout",
     "output_type": "stream",
     "text": [
      "enter the temp in degree celsius:1\n",
      "the 1.0 celsius in fahrenheit is 33.8\n"
     ]
    }
   ],
   "source": [
    "x=float(input(\"enter the temp in degree celsius:\"))\n",
    "y=33.8*x\n",
    "print(\"the {} celsius in fahrenheit is {}\".format(x,y))"
   ]
  },
  {
   "cell_type": "markdown",
   "metadata": {},
   "source": [
    "# 10. To check a no is +ve or -ve or 0"
   ]
  },
  {
   "cell_type": "code",
   "execution_count": 20,
   "metadata": {},
   "outputs": [
    {
     "name": "stdout",
     "output_type": "stream",
     "text": [
      "enter a no:-5\n",
      "it is a -ve no\n"
     ]
    }
   ],
   "source": [
    "x=int(input(\"enter a no:\"))\n",
    "if x>0:\n",
    "    print(\"it is a +ve no:\")\n",
    "elif x<0:\n",
    "    print(\"it is a -ve no\")\n",
    "else:\n",
    "    print(\"it is a 0\")"
   ]
  },
  {
   "cell_type": "markdown",
   "metadata": {
    "collapsed": true
   },
   "source": [
    "# Leap year checker"
   ]
  },
  {
   "cell_type": "code",
   "execution_count": 2,
   "metadata": {},
   "outputs": [
    {
     "name": "stdout",
     "output_type": "stream",
     "text": [
      "enter a year:2010\n",
      "not a leap year\n"
     ]
    }
   ],
   "source": [
    "x=int(input(\"enter a year:\"))\n",
    "if x%4==0:\n",
    "    print(\"this is a leap year:\")\n",
    "else:\n",
    "    print(\"not a leap year\")\n",
    "      "
   ]
  },
  {
   "cell_type": "markdown",
   "metadata": {},
   "source": [
    "# Factorial of a number"
   ]
  },
  {
   "cell_type": "code",
   "execution_count": 1,
   "metadata": {},
   "outputs": [
    {
     "name": "stdout",
     "output_type": "stream",
     "text": [
      "enter a no :0\n",
      "factorial is=: 1\n"
     ]
    }
   ],
   "source": [
    "x=int(input(\"enter a no :\"))\n",
    "z=1\n",
    "if x>=0:\n",
    "    while x>0:\n",
    "        z=z*x\n",
    "        x=x-1\n",
    "    print(\"factorial is=:\",z)\n",
    "else:\n",
    "    print(\"enter a positive no:\")"
   ]
  },
  {
   "cell_type": "markdown",
   "metadata": {
    "collapsed": true
   },
   "source": [
    "#  To Print Sum of n Natural no"
   ]
  },
  {
   "cell_type": "code",
   "execution_count": 3,
   "metadata": {},
   "outputs": [
    {
     "name": "stdout",
     "output_type": "stream",
     "text": [
      "enter a starting no:1\n",
      "enter the ending no:3\n",
      "sum is: 6\n"
     ]
    }
   ],
   "source": [
    "x=int(input(\"enter a starting no:\"))\n",
    "y=int(input(\"enter the ending no:\"))\n",
    "z=0\n",
    "if x>=1:\n",
    "    while x<=y:\n",
    "        z=z+x\n",
    "        x=x+1\n",
    "    print(\"sum is:\",z)\n",
    "else:\n",
    "    print(\"enter a no greater than 1\")"
   ]
  },
  {
   "cell_type": "markdown",
   "metadata": {
    "collapsed": true
   },
   "source": [
    "# Fibonacci series"
   ]
  },
  {
   "cell_type": "code",
   "execution_count": 11,
   "metadata": {},
   "outputs": [
    {
     "name": "stdout",
     "output_type": "stream",
     "text": [
      "printing the series:\n",
      "enter the end limit:8\n",
      " 0\n",
      " 1\n",
      " 1\n",
      " 2\n",
      " 3\n",
      " 5\n",
      " 8\n",
      " 13\n"
     ]
    }
   ],
   "source": [
    "print(\"printing the series:\")\n",
    "y=int(input(\"enter the end limit:\"))\n",
    "x=1\n",
    "m=1\n",
    "z=0\n",
    "while x<=y :\n",
    "    print(\"\",z)\n",
    "    p=z+m\n",
    "    z=m\n",
    "    m=p\n",
    "    x=x+1"
   ]
  },
  {
   "cell_type": "code",
   "execution_count": null,
   "metadata": {
    "collapsed": true
   },
   "outputs": [],
   "source": []
  }
 ],
 "metadata": {
  "kernelspec": {
   "display_name": "Python 3",
   "language": "python",
   "name": "python3"
  },
  "language_info": {
   "codemirror_mode": {
    "name": "ipython",
    "version": 3
   },
   "file_extension": ".py",
   "mimetype": "text/x-python",
   "name": "python",
   "nbconvert_exporter": "python",
   "pygments_lexer": "ipython3",
   "version": "3.6.3"
  }
 },
 "nbformat": 4,
 "nbformat_minor": 2
}
