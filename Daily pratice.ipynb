{
 "cells": [
  {
   "cell_type": "code",
   "execution_count": 3,
   "metadata": {},
   "outputs": [
    {
     "name": "stdout",
     "output_type": "stream",
     "text": [
      "Type of X :  <class 'str'>\n",
      "Type of Y :  <class 'int'>\n",
      "X =  ABCDEF\n",
      "Y =  11259375\n",
      "Enter a no : 5\n",
      "Type of x \n",
      "X =  5\n"
     ]
    }
   ],
   "source": [
    "x = 'ABCDEF'#we have passed here base 16 as because base default is 16\n",
    "y = int(x,16)\n",
    "print(\"Type of X : \",type(x))\n",
    "print(\"Type of Y : \",type(y))\n",
    "print(\"X = \",x)\n",
    "print(\"Y = \",y)\n",
    "x = int(input(\"Enter a no : \"),16)\n",
    "print(\"Type of x \")\n",
    "print(\"X = \",x)"
   ]
  },
  {
   "cell_type": "code",
   "execution_count": 2,
   "metadata": {},
   "outputs": [
    {
     "name": "stdout",
     "output_type": "stream",
     "text": [
      "{'hi': 0, 'name': 0}\n"
     ]
    }
   ],
   "source": [
    "d ={\n",
    "    'name':'python','scope':'world wide','build_year':'1994',\n",
    "    'frameworks':['Django','flask','web2py','Pyramid'],\n",
    "    'father':'Guido Van Rossum',\n",
    "    'fields':['Scripting','Automation','cloud','ai','ml','data_science','web_designing','software_development']\n",
    "}\n",
    "h=d.fromkeys(['hi','name'],0)\n",
    "print(h)\n",
    "\n"
   ]
  },
  {
   "cell_type": "code",
   "execution_count": 4,
   "metadata": {},
   "outputs": [
    {
     "name": "stdout",
     "output_type": "stream",
     "text": [
      "5\n"
     ]
    }
   ],
   "source": [
    "#rolling of dice\n",
    "from random import randrange\n",
    "while input(\"do you want to roll againg\"):\n",
    "    \n",
    "    x=randrange(1,7) \n",
    "    print(x)\n"
   ]
  },
  {
   "cell_type": "code",
   "execution_count": 6,
   "metadata": {},
   "outputs": [
    {
     "name": "stdout",
     "output_type": "stream",
     "text": [
      "enter your number:2\n",
      "2\n",
      "4\n",
      "6\n",
      "8\n",
      "10\n",
      "12\n",
      "14\n",
      "16\n",
      "18\n",
      "20\n"
     ]
    }
   ],
   "source": [
    "x=int(input(\"enter your number:\"))\n",
    "l=[1,2,3,4,5,6,7,8,9,10]\n",
    "for var in l:\n",
    "    print(x*var)"
   ]
  },
  {
   "cell_type": "code",
   "execution_count": 1,
   "metadata": {},
   "outputs": [
    {
     "name": "stdout",
     "output_type": "stream",
     "text": [
      "enter the no you want as input5\n",
      "enter in sequence from 1 to n:2\n",
      "enter in sequence from 1 to n:5\n",
      "enter in sequence from 1 to n:6\n",
      "enter in sequence from 1 to n:4\n",
      "enter in sequence from 1 to n:5\n",
      "['2', '5', '6', '4', '5']\n"
     ]
    }
   ],
   "source": [
    "y=int(input(\"enter the no you want as input\"))\n",
    "x=1\n",
    "l=[]\n",
    "while x<=y:\n",
    "    m=input(\"enter in sequence from 1 to n:\")\n",
    "    l.append(m)\n",
    "    x+=1            \n",
    "print(l)    "
   ]
  },
  {
   "cell_type": "code",
   "execution_count": 1,
   "metadata": {
    "collapsed": true
   },
   "outputs": [],
   "source": [
    "m=open(\"C:\\\\Users\\\\Abhishek khandelwal\\\\Desktop\\\\g.txt\",\"w+\")\n",
    "m.close"
   ]
  },
  {
   "cell_type": "code",
   "execution_count": 3,
   "metadata": {},
   "outputs": [
    {
     "data": {
      "text/plain": [
       "20"
      ]
     },
     "execution_count": 3,
     "metadata": {},
     "output_type": "execute_result"
    }
   ],
   "source": [
    "m=open(\"C:\\\\Users\\\\Abhishek khandelwal\\\\Desktop\\\\g.txt\",\"r+\")\n",
    "m.write(\"hi i am abhishek\")\n",
    "m.write(\"\\n\\n python is awesome\")"
   ]
  },
  {
   "cell_type": "code",
   "execution_count": 12,
   "metadata": {},
   "outputs": [
    {
     "name": "stdout",
     "output_type": "stream",
     "text": [
      "['on is awesome']\n"
     ]
    }
   ],
   "source": [
    "m.seek(25)\n",
    "k=m.readlines()\n",
    "print(k)"
   ]
  },
  {
   "cell_type": "code",
   "execution_count": 16,
   "metadata": {
    "collapsed": true
   },
   "outputs": [],
   "source": []
  },
  {
   "cell_type": "code",
   "execution_count": 3,
   "metadata": {
    "collapsed": true
   },
   "outputs": [],
   "source": [
    "\n",
    "    \n",
    "    "
   ]
  },
  {
   "cell_type": "code",
   "execution_count": 6,
   "metadata": {
    "collapsed": true
   },
   "outputs": [],
   "source": []
  },
  {
   "cell_type": "code",
   "execution_count": null,
   "metadata": {
    "collapsed": true
   },
   "outputs": [],
   "source": [
    "def login(*args):\n",
    "    print(\"\\n\\n\")\n",
    "    uacc = int(input(\"Acc Number : \"))\n",
    "    if uacc in bank['acc'] :\n",
    "        upass = getpass(\"Password : \")\n",
    "        index = bank['acc'].index(uacc)\n",
    "        if upass == bank['password'][index]:\n",
    "            t=open(\"log.txt\",\"a\")\n",
    "            s=\"\\nuser login at {} \".format(time.ctime())\n",
    "            t.write(s)\n",
    "            t.close()\n",
    "            while True :\n",
    "                print(\"\\n\\n1. Debit\\n2. Credit\\n3. Check Balance\\n4. Change Password \\n5. Logout\")\n",
    "                ch = int(input(\"Choice : \"))\n",
    "                if ch == 1 :\n",
    "                    ab=bank['balance'][index]\n",
    "                    print(\"\\n \\nAvailable balance : \",ab)\n",
    "                    da=int(input(\"\\nenter the amount to debit : \"))\n",
    "                    if da<=ab:\n",
    "                        print(\"\\ncollect your cash\")\n",
    "                        ab=ab-da\n",
    "                        print(\"\\nAvailable balance after withdrawl: \",ab)\n",
    "                        f=open(\"bank.txt\",\"w\")\n",
    "                        json.dump(bank,f)\n",
    "                        f.close()\n",
    "                        t=open(\"log.txt\",\"a\")\n",
    "                        s=\"\\nuser withdraws amount at {} \".format(time.ctime())\n",
    "                        t.write(s)\n",
    "                        t.close()\n",
    "                    else:\n",
    "                        print(\"\\n insufficient balance\")\n",
    "                        break\n",
    "                        t=open(\"log.txt\",\"a\")\n",
    "                        s=\"\\nuser unable to withdraw amount at {} \".format(time.ctime())\n",
    "                        t.write(s)\n",
    "                        t.close()\n",
    "                        \n",
    "                elif ch == 2 :\n",
    "                    ca=int(input(\"\\nEnter the amount you want to credit : \"))\n",
    "                    bank['balance'][index] += ca\n",
    "                    print(\"\\nAccount balance after crediting money : \",bank['balance'][index])\n",
    "                    f=open(\"bank.txt\",\"w\")\n",
    "                    json.dump(bank,f)\n",
    "                    f.close()\n",
    "                    t=open(\"log.txt\",\"a\")\n",
    "                    s=\"\\nuser deposited amount at {} \".format(time.ctime())\n",
    "                    t.write(s)\n",
    "                    t.close()\n",
    "                elif ch == 3:\n",
    "                     print(\"\\nYour Account balance is : \",bank['balance'][index])                        \n",
    "                elif ch == 4 :\n",
    "                    op=getpass(\"\\n enter your old password : \")\n",
    "                    pp=bank['password'][index]\n",
    "                    if op==pp:\n",
    "                        np=getpass(\"\\n enter new password : \")\n",
    "                        cp=getpass(\"\\n confirn new password : \")\n",
    "                        if np==cp:\n",
    "                            bank['password'][index] = np\n",
    "                            print(\"\\n password changed successfully : \")\n",
    "                            f=open(\"bank.txt\",\"w\")\n",
    "                            json.dump(bank,f)\n",
    "                            f.close()\n",
    "                            t=open(\"log.txt\",\"a\")\n",
    "                            s=\"\\nuser changed password at {} \".format(time.ctime())\n",
    "                            t.write(s)\n",
    "                            t.close()\n",
    "                        else:\n",
    "                            print(\"\\n password do not match, Try again : \")\n",
    "                    else:\n",
    "                        print(\"\\n Old password do not match : \")\n",
    "                elif ch == 5 :\n",
    "                    print(\"\\nLogging you out.....\\n\")\n",
    "                    break\n",
    "                else :\n",
    "                    print(\"\\n\\nInvalid Choice \")\n",
    "                    print(\"Try Again\")\n",
    "        else :\n",
    "            print(\"\\n\\nInvalid Password\\n\\nTry Again\")\n",
    "            t=open(\"log.txt\",\"a\")\n",
    "            s=\"\\nuser tried wrong password at {}\".format(time.ctime())\n",
    "            t.write(s)\n",
    "            t.close()\n",
    "            \n",
    "    else :\n",
    "        print(\"\\n\\nNo such Account Exists \\nYou should signup\\n\\n\")\n",
    "    return 0\n",
    "def signup(*args):\n",
    "    acc = bank['acc'][-1] + 1\n",
    "    name = input(\"Username : \")\n",
    "    bal = float(input(\"Initial Blance : \"))\n",
    "    password = getpass(\"Set Password : \")\n",
    "    bank['user'].append(name)\n",
    "    bank['acc'].append(acc)\n",
    "    bank['password'].append(password)\n",
    "    bank['balance'].append(bal)\n",
    "    print(\"\\nAccount Sucessfully Created\")\n",
    "    print(\"Note down your account num :  {}\".format(acc))\n",
    "    f=open(\"bank.txt\",\"w\")\n",
    "    json.dump(bank,f)\n",
    "    f.close()\n",
    "    print(\"Now you can login\\n\")\n",
    "    return 0\n",
    "def Admin(*args):\n",
    "    username = input(\"\\nEnter name : \").strip().lower()\n",
    "    password = getpass()\n",
    "    if username == admin :\n",
    "        \n",
    "        if password == admin_password :\n",
    "            print()\n",
    "            f=open(\"bank.txt\",\"r\")\n",
    "            f.seek(0)\n",
    "            print(json.load(f))\n",
    "            f.close()\n",
    "        else :\n",
    "            print(\"\\nInvalid password \\nTry Again\")\n",
    "    else :\n",
    "        print(\"\\nThis user is not an admin.\")\n",
    "    return 0\n",
    "def exit():\n",
    "    print(\"\\nThanks for useing our services \")\n",
    "    reutrn 0"
   ]
  },
  {
   "cell_type": "markdown",
   "metadata": {},
   "source": [
    "hbhgg"
   ]
  },
  {
   "cell_type": "code",
   "execution_count": 1,
   "metadata": {},
   "outputs": [
    {
     "name": "stdout",
     "output_type": "stream",
     "text": [
      "\n",
      "\n",
      "\n",
      "**************************************************\n",
      "Welcome to Python Bank\n",
      "**************************************************\n",
      "\n",
      "\n",
      "1. Login \n",
      "2. Signup \n",
      "3. Admin \n",
      "4. Exit\n",
      "Your Choice : 4\n"
     ]
    }
   ],
   "source": [
    "import json\n",
    "import time\n",
    "from getpass import getpass\n",
    "bank = { \n",
    "        'user' : [ 'ram', 'sam','vijay' ],\n",
    "        'acc' : [ 1001, 1002, 1003 ],\n",
    "        'password' : [ 'grras@123', 'something', 'redhat'],\n",
    "        'balance' : [ 10000.23, 20000.45, 124322.234]\n",
    "        }\n",
    "admin = 'root'\n",
    "admin_password = 'redhat@123'\n",
    "f=open(\"bank.txt\",\"w\")\n",
    "json.dump(bank,f)\n",
    "f.close()\n",
    "while True :\n",
    "    print(\"\\n\\n\")\n",
    "    print(\"*\"*50)\n",
    "    print(\"Welcome to Python Bank\")\n",
    "    print(\"*\"*50)\n",
    "    print(\"\\n\\n1. Login \\n2. Signup \\n3. Admin \\n4. Exit\")\n",
    "    ch = int(input(\"Your Choice : \"))\n",
    "\n",
    "    if ch == 1 :\n",
    "        login()\n",
    "   \n",
    "    elif ch == 2 :\n",
    "        signup()\n",
    "        \n",
    "    elif ch == 3 :\n",
    "        Admin()\n",
    "       \n",
    "    elif ch == 4 :\n",
    "        break\n",
    "       \n",
    "    else :\n",
    "        print(\"\\nInvalidChoice\\nTry again\")"
   ]
  },
  {
   "cell_type": "code",
   "execution_count": 1,
   "metadata": {},
   "outputs": [
    {
     "name": "stdout",
     "output_type": "stream",
     "text": [
      "enter the dirn:58\n",
      "enter the dirn:5\n",
      "enter the distance:54\n",
      "enter the distance :5\n",
      "you are 2941 away from start position in the dir of 58-5\n"
     ]
    }
   ],
   "source": [
    "def randomwalk(d1,d2,l1,l2):\n",
    "    k=(d1**2+d2**2)\n",
    "    print(\"you are {} away from start position in the dir of {}-{}\".format(k,l1,l2))\n",
    "l1=input(\"enter the dirn:\")\n",
    "l2=input(\"enter the dirn:\")\n",
    "d1=int(input(\"enter the distance:\"))\n",
    "d2=int(input(\"enter the distance :\"))\n",
    "x=randomwalk(d1,d2,l1,l2)\n",
    "\n",
    "    "
   ]
  },
  {
   "cell_type": "markdown",
   "metadata": {},
   "source": [
    "##### "
   ]
  },
  {
   "cell_type": "code",
   "execution_count": 2,
   "metadata": {},
   "outputs": [
    {
     "name": "stdout",
     "output_type": "stream",
     "text": [
      "5\n",
      "2 6 8 7 10\n",
      "8\n"
     ]
    }
   ],
   "source": [
    "n=int(input())\n",
    "arr = map(int, input().split())\n",
    "l=list(arr)\n",
    "a=l[0]\n",
    "for i in range(0,n):\n",
    "    if a<l[i]:\n",
    "        a=l[i]\n",
    "    else:\n",
    "        pass\n",
    "b=l[0]    \n",
    "for i in range(0,n):\n",
    "    if b<l[i] and l[i]<a:\n",
    "        b=l[i]\n",
    "    else:\n",
    "        pass \n",
    "print(b)    \n",
    "        \n",
    "    "
   ]
  },
  {
   "cell_type": "code",
   "execution_count": 1,
   "metadata": {},
   "outputs": [
    {
     "name": "stdout",
     "output_type": "stream",
     "text": [
      "3\n",
      "-10 0 10\n",
      "0\n"
     ]
    }
   ],
   "source": [
    "    n = int(input())\n",
    "    arr = map(int, input().split())\n",
    "    l=list(arr)\n",
    "    a=0\n",
    "    for i in range(0,n):\n",
    "        if a<l[i]:\n",
    "            a=l[i]\n",
    "        else:\n",
    "            pass\n",
    "    b=0    \n",
    "    for i in range(0,n):\n",
    "        if l[i]!=a:\n",
    "            if b<l[i] :\n",
    "                b=l[i]\n",
    "            else:\n",
    "                pass \n",
    "print(b)    \n",
    "        \n",
    "    "
   ]
  },
  {
   "cell_type": "code",
   "execution_count": null,
   "metadata": {
    "collapsed": true
   },
   "outputs": [],
   "source": []
  }
 ],
 "metadata": {
  "kernelspec": {
   "display_name": "Python 3",
   "language": "python",
   "name": "python3"
  },
  "language_info": {
   "codemirror_mode": {
    "name": "ipython",
    "version": 3
   },
   "file_extension": ".py",
   "mimetype": "text/x-python",
   "name": "python",
   "nbconvert_exporter": "python",
   "pygments_lexer": "ipython3",
   "version": "3.6.3"
  }
 },
 "nbformat": 4,
 "nbformat_minor": 2
}
