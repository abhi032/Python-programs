{
 "cells": [
  {
   "cell_type": "code",
   "execution_count": 3,
   "metadata": {},
   "outputs": [
    {
     "name": "stdout",
     "output_type": "stream",
     "text": [
      "**************************************************\n",
      "Welcome to Your bank:\n",
      "**************************************************\n",
      "\n",
      "\n",
      "1.Login \n",
      "2.Signup\n",
      "3.Admin\n",
      "4.Exit\n",
      "enter your choice:1\n",
      "enter your account no:1001\n",
      "1001\n",
      "**************************************************\n",
      "Welcome to Your bank:\n",
      "**************************************************\n",
      "\n",
      "\n",
      "1.Login \n",
      "2.Signup\n",
      "3.Admin\n",
      "4.Exit\n",
      "enter your choice:4\n"
     ]
    }
   ],
   "source": [
    "from getpass import getpass\n",
    "bank = { \n",
    "        'user' : [ 'ram', 'sam','vijay' ],\n",
    "        'acc' : [ 1001, 1002, 1003 ],\n",
    "        'password' : [ 'grras@123', 'something', 'redhat'],\n",
    "        'balance' : [ 10000.23, 20000.45, 124322.234]\n",
    "        }\n",
    "while True:\n",
    "    print(\"*\"*50)\n",
    "    print(\"Welcome to Your bank:\")\n",
    "    print(\"*\"*50)\n",
    "    print(\"\\n\\n1.Login \\n2.Signup\\n3.Admin\\n4.Exit\")\n",
    "    x=int(input(\"enter your choice:\"))\n",
    "    if x==1:\n",
    "        a=int(input(\"enter your account no:\"))\n",
    "        if a in bank[\"acc\"]:\n",
    "            y=getpass(\"enter your password\")\n",
    "            index = bank['acc'].index(acc)\n",
    "            if y==bank[\"password\"][index]:\n",
    "                while True:\n",
    "                    print(\"\\n\\n1.Login \\n2.Signup\\n3.Admin\\n4.Exit                    \n",
    "    elif x==2:\n",
    "        pass\n",
    "    elif x==3:\n",
    "        pass\n",
    "    else:\n",
    "        break"
   ]
  },
  {
   "cell_type": "code",
   "execution_count": null,
   "metadata": {
    "collapsed": true
   },
   "outputs": [],
   "source": []
  }
 ],
 "metadata": {
  "kernelspec": {
   "display_name": "Python 3",
   "language": "python",
   "name": "python3"
  },
  "language_info": {
   "codemirror_mode": {
    "name": "ipython",
    "version": 3
   },
   "file_extension": ".py",
   "mimetype": "text/x-python",
   "name": "python",
   "nbconvert_exporter": "python",
   "pygments_lexer": "ipython3",
   "version": "3.6.3"
  }
 },
 "nbformat": 4,
 "nbformat_minor": 2
}
