{
 "cells": [
  {
   "cell_type": "markdown",
   "metadata": {},
   "source": [
    "# <h1 color=\"red\">File handling in Python</h1>"
   ]
  },
  {
   "cell_type": "code",
   "execution_count": null,
   "metadata": {
    "collapsed": true
   },
   "outputs": [],
   "source": [
    "file are of two types\n",
    "1.byte file(binary)\n",
    "2.text(utf-8 charcters)\n",
    "#to open any image in python we use a open function\n",
    "2.open(filename with path,mode,buffer size)\n",
    "bt we cannot give buffer size\n",
    "open function always returns pointer which reads and write data\n",
    "ex :)\n",
    "fp=open(fname,mode)\n",
    "now Mode are of 3 types\n",
    "1.read >always used to only view the data\n",
    "2.write>always used to overwrite the data\n",
    "3.append>not affect all the data and start writing the data \n"
   ]
  },
  {
   "cell_type": "markdown",
   "metadata": {},
   "source": [
    "#Read mode has four option\n",
    "1. \"r\"  >read only\n",
    "2. \"r+\" >read and write mode\n",
    "3. \"rb\" >used to open a byte file(ex-Audio file and video file)(read only)\n",
    "4. \"rb+\">>used to open a byte file(ex-Audio file and video file)and write it in (read and write both)"
   ]
  },
  {
   "cell_type": "markdown",
   "metadata": {},
   "source": [
    "#Write mode has four option\n",
    "1. \"w\"  >write only(\"for overwrite\")\n",
    "2. \"w+\" >write and read\n",
    "3. \"wb\" >write those file file which exists in byte file\n",
    "4. \"wb+\">write those file file which exists in byte file and read it\n"
   ]
  },
  {
   "cell_type": "markdown",
   "metadata": {},
   "source": [
    "#Append mode\n",
    "1. \"a\"  >to write data in file without affecting the old data\n",
    "2. \"a+\" >to write data in file without affecting the old data and read it\n",
    "3. \"ab\" >to write data in file without affecting the old data write byte file \n",
    "4. \"ab+\">to write data in file without affecting the old data read byte file and write it in"
   ]
  },
  {
   "cell_type": "code",
   "execution_count": 12,
   "metadata": {
    "collapsed": true
   },
   "outputs": [],
   "source": [
    "#opening a file:\n",
    "f=open(\"C:\\\\Users\\\\abhishek khandelwal\\\\desktop\\\\o.txt\",\"w\")"
   ]
  },
  {
   "cell_type": "code",
   "execution_count": 6,
   "metadata": {},
   "outputs": [
    {
     "name": "stdout",
     "output_type": "stream",
     "text": [
      "file name= C:\\Users\\abhishek khandelwal\\desktop\\o.txt\n",
      " w\n",
      "['_CHUNK_SIZE', '__class__', '__del__', '__delattr__', '__dict__', '__dir__', '__doc__', '__enter__', '__eq__', '__exit__', '__format__', '__ge__', '__getattribute__', '__getstate__', '__gt__', '__hash__', '__init__', '__init_subclass__', '__iter__', '__le__', '__lt__', '__ne__', '__new__', '__next__', '__reduce__', '__reduce_ex__', '__repr__', '__setattr__', '__sizeof__', '__str__', '__subclasshook__', '_checkClosed', '_checkReadable', '_checkSeekable', '_checkWritable', '_finalizing', 'buffer', 'close', 'closed', 'detach', 'encoding', 'errors', 'fileno', 'flush', 'isatty', 'line_buffering', 'mode', 'name', 'newlines', 'read', 'readable', 'readline', 'readlines', 'seek', 'seekable', 'tell', 'truncate', 'writable', 'write', 'writelines']\n"
     ]
    },
    {
     "data": {
      "text/plain": [
       "'bool(x) -> bool\\n\\nReturns True when the argument x is true, False otherwise.\\nThe builtins True and False are the only two instances of the class bool.\\nThe class bool is a subclass of the class int, and cannot be subclassed.'"
      ]
     },
     "execution_count": 6,
     "metadata": {},
     "output_type": "execute_result"
    }
   ],
   "source": [
    "print(\"file name=\",f.name)\n",
    "print(\"\",f.mode)\n",
    "print(dir(f))"
   ]
  },
  {
   "cell_type": "code",
   "execution_count": 11,
   "metadata": {},
   "outputs": [
    {
     "name": "stdout",
     "output_type": "stream",
     "text": [
      "can i read this file: False\n",
      "can i write this file: True\n",
      "True\n"
     ]
    }
   ],
   "source": [
    "print(\"can i read this file:\",f.readable())\n",
    "print(\"can i write this file:\",f.writable())\n",
    "print(f.seekable())"
   ]
  },
  {
   "cell_type": "code",
   "execution_count": 30,
   "metadata": {},
   "outputs": [
    {
     "ename": "FileNotFoundError",
     "evalue": "[Errno 2] No such file or directory: 'C:\\\\a.txt'",
     "output_type": "error",
     "traceback": [
      "\u001b[1;31m---------------------------------------------------------------------------\u001b[0m",
      "\u001b[1;31mFileNotFoundError\u001b[0m                         Traceback (most recent call last)",
      "\u001b[1;32m<ipython-input-30-f0eed29ec31d>\u001b[0m in \u001b[0;36m<module>\u001b[1;34m()\u001b[0m\n\u001b[1;32m----> 1\u001b[1;33m \u001b[0mt\u001b[0m\u001b[1;33m=\u001b[0m\u001b[0mopen\u001b[0m\u001b[1;33m(\u001b[0m\u001b[1;34m\"C:\\\\a.txt\"\u001b[0m\u001b[1;33m,\u001b[0m\u001b[1;34m\"r+\"\u001b[0m\u001b[1;33m)\u001b[0m\u001b[1;33m\u001b[0m\u001b[0m\n\u001b[0m\u001b[0;32m      2\u001b[0m \u001b[0mt\u001b[0m\u001b[1;33m.\u001b[0m\u001b[0mwrite\u001b[0m\u001b[1;33m(\u001b[0m\u001b[1;34m\"this is a file\"\u001b[0m\u001b[1;33m)\u001b[0m\u001b[1;33m\u001b[0m\u001b[0m\n\u001b[0;32m      3\u001b[0m \u001b[0mt\u001b[0m\u001b[1;33m.\u001b[0m\u001b[0mseek\u001b[0m\u001b[1;33m(\u001b[0m\u001b[1;36m0\u001b[0m\u001b[1;33m)\u001b[0m\u001b[1;33m\u001b[0m\u001b[0m\n\u001b[0;32m      4\u001b[0m \u001b[0md\u001b[0m\u001b[1;33m=\u001b[0m\u001b[0mt\u001b[0m\u001b[1;33m.\u001b[0m\u001b[0mread\u001b[0m\u001b[1;33m(\u001b[0m\u001b[1;33m)\u001b[0m\u001b[1;33m\u001b[0m\u001b[0m\n\u001b[0;32m      5\u001b[0m \u001b[0mprint\u001b[0m\u001b[1;33m(\u001b[0m\u001b[0md\u001b[0m\u001b[1;33m)\u001b[0m\u001b[1;33m\u001b[0m\u001b[0m\n",
      "\u001b[1;31mFileNotFoundError\u001b[0m: [Errno 2] No such file or directory: 'C:\\\\a.txt'"
     ]
    }
   ],
   "source": [
    "t=open(\"C:\\\\a.txt\",\"r+\")\n",
    "t.write(\"this is a file\")\n",
    "t.seek(0)\n",
    "d=t.read()\n",
    "print(d)"
   ]
  },
  {
   "cell_type": "code",
   "execution_count": 26,
   "metadata": {},
   "outputs": [
    {
     "name": "stdout",
     "output_type": "stream",
     "text": [
      "\n"
     ]
    }
   ],
   "source": [
    "#to read above file\n",
    "f=open(\"C:\\\\Users\\\\abhishek khandelwal\\\\desktop\\\\o.txt\",\"r+\")\n",
    "#f.seekable()\n",
    "f.seek(0)\n",
    "data=f.read()\n",
    "print(data)\n"
   ]
  },
  {
   "cell_type": "code",
   "execution_count": 24,
   "metadata": {},
   "outputs": [
    {
     "name": "stdout",
     "output_type": "stream",
     "text": [
      "\n"
     ]
    }
   ],
   "source": [
    "f.seek(0)\n",
    "d=f.read()\n",
    "print(d)\n",
    "#seek function is used to move pointer in file\n",
    "#m=f.seek(10)\n",
    "#print(m)"
   ]
  },
  {
   "cell_type": "code",
   "execution_count": 21,
   "metadata": {},
   "outputs": [
    {
     "name": "stdout",
     "output_type": "stream",
     "text": [
      "10\n"
     ]
    }
   ],
   "source": [
    "print(f.tell())"
   ]
  },
  {
   "cell_type": "code",
   "execution_count": 6,
   "metadata": {},
   "outputs": [
    {
     "name": "stdout",
     "output_type": "stream",
     "text": [
      "\n",
      "\n",
      "\n",
      "**************************************************\n",
      "Welcome to Python Bank\n",
      "**************************************************\n",
      "\n",
      "\n",
      "1. Login \n",
      "2. Signup \n",
      "3. Admin \n",
      "4. Exit\n",
      "Your Choice : 1\n",
      "\n",
      "\n",
      "\n",
      "Acc Number : 1001\n",
      "Password : ········\n",
      "\n",
      "\n",
      "Invalid Password\n",
      "\n",
      "Try Again\n",
      "\n",
      "\n",
      "\n",
      "**************************************************\n",
      "Welcome to Python Bank\n",
      "**************************************************\n",
      "\n",
      "\n",
      "1. Login \n",
      "2. Signup \n",
      "3. Admin \n",
      "4. Exit\n",
      "Your Choice : 4\n",
      "\n",
      "\n",
      "Do really want to exit ? (y/n) : y\n",
      "\n",
      "Thanks for useing our services \n"
     ]
    }
   ],
   "source": [
    "import json\n",
    "import time\n",
    "from getpass import getpass\n",
    "bank = { \n",
    "        'user' : [ 'ram', 'sam','vijay' ],\n",
    "        'acc' : [ 1001, 1002, 1003 ],\n",
    "        'password' : [ 'grras@123', 'something', 'redhat'],\n",
    "        'balance' : [ 10000.23, 20000.45, 124322.234]\n",
    "        }\n",
    "admin = 'root'\n",
    "admin_password = 'redhat@123'\n",
    "f=open(\"bank.txt\",\"w\")\n",
    "json.dump(bank,f)\n",
    "f.close()\n",
    "while True :\n",
    "    \n",
    "    print(\"\\n\\n\")\n",
    "    print(\"*\"*50)\n",
    "    print(\"Welcome to Python Bank\")\n",
    "    print(\"*\"*50)\n",
    "    print(\"\\n\\n1. Login \\n2. Signup \\n3. Admin \\n4. Exit\")\n",
    "    ch = int(input(\"Your Choice : \"))\n",
    "    \n",
    "    if ch == 1 :\n",
    "        print(\"\\n\\n\")\n",
    "        uacc = int(input(\"Acc Number : \"))\n",
    "        if uacc in bank['acc'] :\n",
    "            upass = getpass(\"Password : \")\n",
    "            index = bank['acc'].index(uacc)\n",
    "            if upass == bank['password'][index]:\n",
    "                t=open(\"log.txt\",\"a\")\n",
    "                s=\"\\nuser login at {} \".format(time.ctime())\n",
    "                t.write(s)\n",
    "                t.close()\n",
    "                while True :\n",
    "                    print(\"\\n\\n1. Debit\\n2. Credit\\n3. Check Balance\\n4. Change Password \\n5. Logout\")\n",
    "                    ch = int(input(\"Choice : \"))\n",
    "                    if ch == 1 :\n",
    "                        ab=bank['balance'][index]\n",
    "                        print(\"\\n \\nAvailable balance : \",ab)\n",
    "                        da=int(input(\"\\nenter the amount to debit : \"))\n",
    "                        if da<=ab:\n",
    "                            print(\"\\ncollect your cash\")\n",
    "                            ab=ab-da\n",
    "                            print(\"\\nAvailable balance after withdrawl: \",ab)\n",
    "                            f=open(\"bank.txt\",\"w\")\n",
    "                            json.dump(bank,f)\n",
    "                            f.close()\n",
    "                            t=open(\"log.txt\",\"a\")\n",
    "                            s=\"\\nuser withdraws amount at {} \".format(time.ctime())\n",
    "                            t.write(s)\n",
    "                            t.close()\n",
    "                        else:\n",
    "                            print(\"\\n insufficient balance\")\n",
    "                            break\n",
    "                            t=open(\"log.txt\",\"a\")\n",
    "                            s=\"\\nuser unable to withdraw amount at {} \".format(time.ctime())\n",
    "                            t.write(s)\n",
    "                            t.close()\n",
    "                        \n",
    "                    elif ch == 2 :\n",
    "                        ca=int(input(\"\\nEnter the amount you want to credit : \"))\n",
    "                        bank['balance'][index] += ca\n",
    "                        print(\"\\nAccount balance after crediting money : \",bank['balance'][index])\n",
    "                        f=open(\"bank.txt\",\"w\")\n",
    "                        json.dump(bank,f)\n",
    "                        f.close()\n",
    "                        t=open(\"log.txt\",\"a\")\n",
    "                        s=\"\\nuser deposited amount at {} \".format(time.ctime())\n",
    "                        t.write(s)\n",
    "                        t.close()\n",
    "                    elif ch == 3:\n",
    "                        print(\"\\nYour Account balance is : \",bank['balance'][index])                        \n",
    "                    elif ch == 4 : \n",
    "                        op=getpass(\"\\n enter your old password : \")\n",
    "                        pp=bank['password'][index]\n",
    "                        if op==pp:\n",
    "                            np=getpass(\"\\n enter new password : \")\n",
    "                            cp=getpass(\"\\n confirn new password : \")\n",
    "                            if np==cp:\n",
    "                                bank['password'][index] = np\n",
    "                                print(\"\\n password changed successfully : \")\n",
    "                                f=open(\"bank.txt\",\"w\")\n",
    "                                json.dump(bank,f)\n",
    "                                f.close()\n",
    "                                t=open(\"log.txt\",\"a\")\n",
    "                                s=\"\\nuser changed password at {} \".format(time.ctime())\n",
    "                                t.write(s)\n",
    "                                t.close()\n",
    "                            else:\n",
    "                                print(\"\\n password do not match, Try again : \")\n",
    "                        else:\n",
    "                            print(\"\\n Old password do not match : \")\n",
    "                    elif ch == 5 :\n",
    "                        print(\"\\nLogging you out.....\\n\")\n",
    "                        break\n",
    "                    else :\n",
    "                        print(\"\\n\\nInvalid Choice \")\n",
    "                        print(\"Try Again\")\n",
    "            else :\n",
    "                print(\"\\n\\nInvalid Password\\n\\nTry Again\")\n",
    "                t=open(\"log.txt\",\"a\")\n",
    "                s=\"\\nuser tried wrong password at {}\".format(time.ctime())\n",
    "                t.write(s)\n",
    "                t.close()\n",
    "            \n",
    "        else :\n",
    "            print(\"\\n\\nNo such Account Exists \\nYou should signup\\n\\n\")\n",
    "    elif ch == 2 :\n",
    "        acc = bank['acc'][-1] + 1\n",
    "        name = input(\"Username : \")\n",
    "        bal = float(input(\"Initial Blance : \"))\n",
    "        password = getpass(\"Set Password : \")\n",
    "        bank['user'].append(name)\n",
    "        bank['acc'].append(acc)\n",
    "        bank['password'].append(password)\n",
    "        bank['balance'].append(bal)\n",
    "        print(\"\\nAccount Sucessfully Created\")\n",
    "        print(\"Note down your account num :  {}\".format(acc))\n",
    "        f=open(\"bank.txt\",\"w\")\n",
    "        json.dump(bank,f)\n",
    "        f.close()\n",
    "        print(\"Now you can login\\n\")\n",
    "    elif ch == 3 :\n",
    "        username = input(\"\\nEnter name : \").strip().lower()\n",
    "        password = getpass()\n",
    "        if username == admin : \n",
    "            if password == admin_password :\n",
    "                print()\n",
    "                f=open(\"bank.txt\",\"r\")\n",
    "                f.seek(0)\n",
    "                print(json.load(f))\n",
    "                f.close()\n",
    "            else :\n",
    "                print(\"\\nInvalid password \\nTry Again\")\n",
    "        else :\n",
    "            print(\"\\nThis user is not an admin.\")\n",
    "    elif ch == 4 :\n",
    "        ch = input(\"\\n\\nDo really want to exit ? (y/n) : \").strip().lower()\n",
    "        if ch == 'y' or ch == 'yes' :      \n",
    "            print(\"\\nThanks for useing our services \")\n",
    "            break\n",
    "    else :\n",
    "        print(\"\\nInvalidChoice\\nTry again\")"
   ]
  },
  {
   "cell_type": "code",
   "execution_count": null,
   "metadata": {
    "collapsed": true
   },
   "outputs": [],
   "source": []
  }
 ],
 "metadata": {
  "kernelspec": {
   "display_name": "Python 3",
   "language": "python",
   "name": "python3"
  },
  "language_info": {
   "codemirror_mode": {
    "name": "ipython",
    "version": 3
   },
   "file_extension": ".py",
   "mimetype": "text/x-python",
   "name": "python",
   "nbconvert_exporter": "python",
   "pygments_lexer": "ipython3",
   "version": "3.6.3"
  }
 },
 "nbformat": 4,
 "nbformat_minor": 2
}
