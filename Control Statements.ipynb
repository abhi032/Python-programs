{
 "cells": [
  {
   "cell_type": "markdown",
   "metadata": {
    "collapsed": true
   },
   "source": [
    "# if else \n",
    "known as control statement as becoz they controls the flow of data\n",
    "#syntax\n",
    "#if condition : (: use to defined a block of any code)\n",
    "    #statement1\n",
    "    #statement2\n",
    "    #upto n statement\n",
    "#else:\n",
    "    #statement1\n",
    "    #upto n"
   ]
  },
  {
   "cell_type": "code",
   "execution_count": 2,
   "metadata": {},
   "outputs": [
    {
     "name": "stdout",
     "output_type": "stream",
     "text": [
      "enter a no:4\n",
      "the given no 4 is even\n"
     ]
    }
   ],
   "source": [
    "#program for checkina no even or odd\n",
    "x=int(input(\"enter a no:\"))\n",
    "if x%2==0:\n",
    "    print(\"the given no {} is even\".format(x))\n",
    "else:\n",
    "    print(\"the given no {} is odd\".format(x))"
   ]
  },
  {
   "cell_type": "code",
   "execution_count": 9,
   "metadata": {},
   "outputs": [
    {
     "name": "stdout",
     "output_type": "stream",
     "text": [
      "enter a no:-5\n",
      "enter another no:-2\n",
      "enter the 3rd no:-7\n",
      "the biggest no is -2\n"
     ]
    }
   ],
   "source": [
    "x=int(input(\"enter a no:\"))\n",
    "y=int(input(\"enter another no:\"))\n",
    "z=int(input(\"enter the 3rd no:\"))\n",
    "if x>=y and x>=z :\n",
    "    print(\"the biggest no is {}\".format(x))\n",
    "elif y>=z and y>=x :\n",
    "    print(\"the biggest no is {}\".format(y))\n",
    "else :\n",
    "    print(\"the biggest  no is {}\".format(z))"
   ]
  },
  {
   "cell_type": "markdown",
   "metadata": {
    "collapsed": true
   },
   "source": [
    "# Blood donor and acceptor programm"
   ]
  },
  {
   "cell_type": "code",
   "execution_count": 4,
   "metadata": {},
   "outputs": [
    {
     "name": "stdout",
     "output_type": "stream",
     "text": [
      "donor ,pls enter your blood group:a+\n",
      "Accepter,pls enter your blood group:a-\n"
     ]
    },
    {
     "ename": "TypeError",
     "evalue": "values() takes no arguments (1 given)",
     "output_type": "error",
     "traceback": [
      "\u001b[1;31m---------------------------------------------------------------------------\u001b[0m",
      "\u001b[1;31mTypeError\u001b[0m                                 Traceback (most recent call last)",
      "\u001b[1;32m<ipython-input-4-3f8fb3e332de>\u001b[0m in \u001b[0;36m<module>\u001b[1;34m()\u001b[0m\n\u001b[0;32m      8\u001b[0m     \u001b[1;34m\"o\"\u001b[0m\u001b[1;33m:\u001b[0m\u001b[1;33m{\u001b[0m\u001b[1;34m\"o-\"\u001b[0m\u001b[1;33m,\u001b[0m\u001b[1;34m\"o+\"\u001b[0m\u001b[1;33m}\u001b[0m\u001b[1;33m\u001b[0m\u001b[0m\n\u001b[0;32m      9\u001b[0m }\n\u001b[1;32m---> 10\u001b[1;33m \u001b[1;32mif\u001b[0m \u001b[0mz\u001b[0m\u001b[1;33m.\u001b[0m\u001b[0mvalues\u001b[0m\u001b[1;33m(\u001b[0m\u001b[0mx\u001b[0m\u001b[1;33m)\u001b[0m\u001b[1;33m==\u001b[0m\u001b[0mz\u001b[0m\u001b[1;33m.\u001b[0m\u001b[0mvalues\u001b[0m\u001b[1;33m(\u001b[0m\u001b[0my\u001b[0m\u001b[1;33m)\u001b[0m\u001b[1;33m:\u001b[0m\u001b[1;33m\u001b[0m\u001b[0m\n\u001b[0m\u001b[0;32m     11\u001b[0m     \u001b[0mprint\u001b[0m\u001b[1;33m(\u001b[0m\u001b[1;34m\"you can donate\"\u001b[0m\u001b[1;33m)\u001b[0m\u001b[1;33m\u001b[0m\u001b[0m\n\u001b[0;32m     12\u001b[0m \u001b[1;32melse\u001b[0m\u001b[1;33m:\u001b[0m\u001b[1;33m\u001b[0m\u001b[0m\n",
      "\u001b[1;31mTypeError\u001b[0m: values() takes no arguments (1 given)"
     ]
    }
   ],
   "source": [
    "#file landing should be used\n",
    "x=input(\"donor ,pls enter your blood group:\").lower().strip()\n",
    "y=input(\"Accepter,pls enter your blood group:\").lower().strip()\n",
    "z={\n",
    "    \"ab\":{\"ab-\",\"ab+\"},\n",
    "    \"a\":{\"a-\",\"a+\"},\n",
    "    \"b\":{\"b+\",\"b-\"},\n",
    "    \"o\":{\"o-\",\"o+\"}\n",
    "}\n",
    "if z.values(x)==z.values(y):\n",
    "    print(\"you can donate\")\n",
    "else:\n",
    "    print(\"you cannot donate \")\n",
    "    "
   ]
  },
  {
   "cell_type": "code",
   "execution_count": null,
   "metadata": {
    "collapsed": true
   },
   "outputs": [],
   "source": [
    "a=input(\"donor or acceptor\")\n",
    "c=input(\"enter your blood group\")\n",
    "b=input(\"donor or acceptor\")\n",
    "d=input(\"enter your blood group\")\n",
    "if a==b:\n",
    "    print(\"only 1 can donate at a time\")\n",
    "else :\n",
    "    if c==d :\n",
    "        print(\"you can donate to each other\")\n",
    "    else :\n",
    "        print(\"you cannot donate \")"
   ]
  },
  {
   "cell_type": "code",
   "execution_count": null,
   "metadata": {
    "collapsed": true
   },
   "outputs": [],
   "source": []
  }
 ],
 "metadata": {
  "kernelspec": {
   "display_name": "Python 3",
   "language": "python",
   "name": "python3"
  }
 },
 "nbformat": 4,
 "nbformat_minor": 2
}
