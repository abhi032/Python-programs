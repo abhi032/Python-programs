{
 "cells": [
  {
   "cell_type": "markdown",
   "metadata": {},
   "source": [
    "# Loops in Python"
   ]
  },
  {
   "cell_type": "markdown",
   "metadata": {},
   "source": [
    "1.While\n",
    "2.For\n"
   ]
  },
  {
   "cell_type": "code",
   "execution_count": 23,
   "metadata": {},
   "outputs": [
    {
     "name": "stdout",
     "output_type": "stream",
     "text": [
      "enter how much time u want to print hello:5\n",
      "hello\n",
      "hello\n",
      "hello\n",
      "hello\n",
      "hello\n"
     ]
    }
   ],
   "source": [
    "x=1\n",
    "m=int(input(\"enter how much time u want to print hello:\"))\n",
    "while x<=m:\n",
    "    print(\"hello\")\n",
    "    x=x+1"
   ]
  },
  {
   "cell_type": "code",
   "execution_count": 8,
   "metadata": {},
   "outputs": [
    {
     "name": "stdout",
     "output_type": "stream",
     "text": [
      "100\t99\t98\t97\t96\t95\t94\t93\t92\t91\t90\t89\t88\t87\t86\t85\t84\t83\t82\t81\t80\t79\t78\t77\t76\t75\t74\t73\t72\t71\t70\t69\t68\t67\t66\t65\t64\t63\t62\t61\t60\t59\t58\t57\t56\t55\t54\t53\t52\t51\t50\t49\t48\t47\t46\t45\t44\t43\t42\t41\t40\t39\t38\t37\t36\t35\t34\t33\t32\t31\t30\t29\t28\t27\t26\t25\t24\t23\t22\t21\t20\t19\t18\t17\t16\t15\t14\t13\t12\t11\t10\t9\t8\t7\t6\t5\t4\t3\t2\t1\t"
     ]
    }
   ],
   "source": [
    "x=100\n",
    "while x>=1:\n",
    "    print(x,end='\\t')\n",
    "    x=x-1"
   ]
  },
  {
   "cell_type": "code",
   "execution_count": 24,
   "metadata": {},
   "outputs": [
    {
     "name": "stdout",
     "output_type": "stream",
     "text": [
      "enter how much time u want to print hello:5\n",
      "5\n",
      "10\n",
      "15\n",
      "20\n",
      "25\n",
      "30\n",
      "35\n",
      "40\n",
      "45\n",
      "50\n"
     ]
    }
   ],
   "source": [
    "x=1\n",
    "m=int(input(\"enter how much time u want to print hello:\"))\n",
    "while x<=10:\n",
    "    s=m*x\n",
    "    print(s)\n",
    "    x=x+1\n",
    "    "
   ]
  },
  {
   "cell_type": "code",
   "execution_count": 49,
   "metadata": {},
   "outputs": [
    {
     "name": "stdout",
     "output_type": "stream",
     "text": [
      "5050\n"
     ]
    }
   ],
   "source": [
    "m=1\n",
    "n=100\n",
    "k=0\n",
    "while m<=n :\n",
    "     k=k+m\n",
    "     m=m+1   \n",
    "print(k)    "
   ]
  },
  {
   "cell_type": "code",
   "execution_count": 22,
   "metadata": {
    "scrolled": true
   },
   "outputs": [
    {
     "name": "stdout",
     "output_type": "stream",
     "text": [
      "what you want:········\n",
      "what you want:········\n",
      "p1 wins\n",
      "do you want to continue(y/n):y\n",
      "what you want:········\n",
      "what you want:········\n",
      "p1 wins\n",
      "do you want to continue(y/n):n\n"
     ]
    }
   ],
   "source": [
    "from getpass import getpass\n",
    "l=[('r','s'),('s','p'),('p','r')]\n",
    "l2=[('s','r'),('p','s'),('r','p')]\n",
    "while True:\n",
    "    p1=getpass(\"what you want:\")\n",
    "    p2=getpass(\"what you want:\")\n",
    "    if (p1,p2) in l :\n",
    "        print(\"p1 wins\")\n",
    "    elif (p1,p2) in l2:\n",
    "        print(\"p2 wins\")\n",
    "    else:\n",
    "        print(\"match tie\")\n",
    "    x=input(\"do you want to continue(y/n):\")\n",
    "    if x==\"y\" :\n",
    "        continue\n",
    "    else :\n",
    "        break"
   ]
  },
  {
   "cell_type": "markdown",
   "metadata": {
    "collapsed": true
   },
   "source": [
    "# Guessing Game"
   ]
  },
  {
   "cell_type": "code",
   "execution_count": 21,
   "metadata": {},
   "outputs": [
    {
     "name": "stdout",
     "output_type": "stream",
     "text": [
      "Enter your guess in b/w 1 to 100:50\n",
      "you are crossing your limits\n",
      "Enter your guess in b/w 1 to 100:25\n",
      "you are crossing your limits\n",
      "Enter your guess in b/w 1 to 100:15\n",
      "be bigger think bigger\n",
      "Enter your guess in b/w 1 to 100:18\n",
      "be bigger think bigger\n",
      "Enter your guess in b/w 1 to 100:21\n",
      "you are crossing your limits\n",
      "\t\t\t\t\t\tyou such a looser,computer guess is 19\n",
      "do you want to continue(y/n):y\n",
      "Enter your guess in b/w 1 to 100:60\n",
      "be bigger think bigger\n",
      "Enter your guess in b/w 1 to 100:80\n",
      "you are crossing your limits\n",
      "Enter your guess in b/w 1 to 100:70\n",
      "you are crossing your limits\n",
      "Enter your guess in b/w 1 to 100:67\n",
      "you are crossing your limits\n",
      "Enter your guess in b/w 1 to 100:61\n",
      "you are winner,your guess 61 and computer guess 61 :\n"
     ]
    }
   ],
   "source": [
    "from random import randrange\n",
    "while True :\n",
    "    m=1\n",
    "    x=randrange(1,100)\n",
    "    while m<=5:\n",
    "        y=int(input(\"Enter your guess in b/w 1 to 100:\"))\n",
    "        if x==y :\n",
    "            print(\"you are winner,your guess {} and computer guess {} :\".format(y,x))\n",
    "            break\n",
    "        elif y<0 or y<x :\n",
    "            print(\"be bigger think bigger\")\n",
    "        else :\n",
    "            print(\"you are crossing your limits\")\n",
    "        m=m+1\n",
    "    if x!=y:    \n",
    "        print(\"\\t\\t\\t\\t\\t\\tyou such a looser,computer guess is {}\".format(x))\n",
    "    else:\n",
    "        break\n",
    "    k=input(\"do you want to continue(y/n):\")\n",
    "    if k==\"y\" :\n",
    "        pass\n",
    "    else :\n",
    "        break"
   ]
  },
  {
   "cell_type": "markdown",
   "metadata": {},
   "source": [
    "# Prime no program-user input\n"
   ]
  },
  {
   "cell_type": "code",
   "execution_count": null,
   "metadata": {
    "collapsed": true
   },
   "outputs": [],
   "source": [
    "x=int(input(\"enter a number:\"))\n",
    "if x"
   ]
  },
  {
   "cell_type": "markdown",
   "metadata": {
    "collapsed": true
   },
   "source": [
    "# Prime no program with start and ending limits"
   ]
  },
  {
   "cell_type": "code",
   "execution_count": 11,
   "metadata": {},
   "outputs": [
    {
     "name": "stdout",
     "output_type": "stream",
     "text": [
      "enter a starting no:2\n",
      "enter a end limit:25\n",
      "\t 2\n",
      "\t 3\n",
      "\t 5\n",
      "\t 7\n",
      "\t 11\n",
      "\t 13\n",
      "\t 17\n",
      "\t 19\n",
      "\t 23\n",
      "\t 25\n"
     ]
    }
   ],
   "source": [
    "x=int(input(\"enter a starting no:\"))\n",
    "y=int(input(\"enter a end limit:\"))\n",
    "if x>1:\n",
    "    while x<=y:\n",
    "        if x>=4 :\n",
    "            if x%2==0 or x%3==0:\n",
    "                pass\n",
    "            else:\n",
    "                    print(\"\\t\",x)\n",
    "        elif x>1:\n",
    "            print(\"\\t\",x)\n",
    "        else :\n",
    "            print(\"please enter a no greater than 1 in starting limit\")\n",
    "        x=x+1    \n",
    "else:\n",
    "    print(\"please interchange starting or ending\")   "
   ]
  },
  {
   "cell_type": "markdown",
   "metadata": {},
   "source": [
    "# Palindrome No Program"
   ]
  },
  {
   "cell_type": "code",
   "execution_count": 4,
   "metadata": {},
   "outputs": [
    {
     "name": "stdout",
     "output_type": "stream",
     "text": [
      "enter a no:988\n",
      "not palindrome\n"
     ]
    }
   ],
   "source": [
    "x=int(input(\"enter a no:\"))\n",
    "s=x\n",
    "m=0\n",
    "while x!=0 :\n",
    "    m=m*10+x%10\n",
    "    x=x//10\n",
    "if m==s:\n",
    "    print(\"it is a palindrome\")\n",
    "else:\n",
    "    print(\"not palindrome\")"
   ]
  },
  {
   "cell_type": "markdown",
   "metadata": {},
   "source": [
    "# Armstrong no program"
   ]
  },
  {
   "cell_type": "code",
   "execution_count": 12,
   "metadata": {},
   "outputs": [
    {
     "name": "stdout",
     "output_type": "stream",
     "text": [
      "enter a no:153\n",
      "3\n",
      "it is an armstrong no:\n"
     ]
    }
   ],
   "source": [
    "x=int(input(\"enter a no:\"))\n",
    "k=0\n",
    "z=0\n",
    "s=x\n",
    "m=x\n",
    "l=0\n",
    "while x!=0:\n",
    "    k=k+1\n",
    "    x=x//10\n",
    "print(k)\n",
    "while s!=0 :\n",
    "    z=s%10\n",
    "    l=l+z**k\n",
    "    s=s//10\n",
    "if m==l:\n",
    "    print(\"it is an armstrong no:\")\n",
    "else:\n",
    "    print(\"not an armstrong no:\")   "
   ]
  },
  {
   "cell_type": "markdown",
   "metadata": {
    "collapsed": true
   },
   "source": [
    "# For loop"
   ]
  },
  {
   "cell_type": "code",
   "execution_count": 1,
   "metadata": {},
   "outputs": [
    {
     "name": "stdout",
     "output_type": "stream",
     "text": [
      "enter your number:2\n",
      "2\n",
      "4\n",
      "6\n",
      "8\n",
      "10\n",
      "12\n",
      "14\n",
      "16\n",
      "18\n",
      "20\n"
     ]
    }
   ],
   "source": [
    "x=int(input(\"enter your number:\"))\n",
    "l=[1,2,3,4,5,6,7,8,9,10]\n",
    "for var in l:\n",
    "    print(x*var)"
   ]
  },
  {
   "cell_type": "code",
   "execution_count": 1,
   "metadata": {},
   "outputs": [
    {
     "name": "stdout",
     "output_type": "stream",
     "text": [
      "enter a starting no:2\n",
      "enter a ending no:5\n",
      "enter any no:5\n",
      "5\n"
     ]
    }
   ],
   "source": [
    "x=int(input(\"enter a starting no:\"))\n",
    "y=int(input(\"enter a ending no:\"))\n",
    "z=int(input(\"enter any no:\"))\n",
    "k=range(x,y+1)\n",
    "for var in k:\n",
    "    if var%z==0:\n",
    "        print(var)\n",
    "    var=var+1    "
   ]
  },
  {
   "cell_type": "code",
   "execution_count": 2,
   "metadata": {},
   "outputs": [
    {
     "name": "stdout",
     "output_type": "stream",
     "text": [
      "enter a starting no:2\n",
      "enter a ending no:5\n",
      "enter any no:5\n",
      "2\n",
      "3\n",
      "4\n"
     ]
    }
   ],
   "source": [
    "x=int(input(\"enter a starting no:\"))\n",
    "y=int(input(\"enter a ending no:\"))\n",
    "z=int(input(\"enter any no:\"))\n",
    "k=range(x,y+1)\n",
    "for var in k:\n",
    "    if var%z!=0:\n",
    "        print(var)\n",
    "        var=var+1    "
   ]
  },
  {
   "cell_type": "code",
   "execution_count": 15,
   "metadata": {},
   "outputs": [
    {
     "name": "stdout",
     "output_type": "stream",
     "text": [
      "-100 -99 -98 -97 -96 -95 -94 -93 -92 -91 -90 -89 -88 -87 -86 -85 -84 -83 -82 -81 -80 -79 -78 -77 -76 -75 -74 -73 -72 -71 -70 -69 -68 -67 -66 -65 -64 -63 -62 -61 -60 -59 -58 -57 -56 -55 -54 -53 -52 -51 -50 -49 -48 -47 -46 -45 -44 -43 -42 -41 -40 -39 -38 -37 -36 -35 -34 -33 -32 -31 -30 -29 -28 -27 -26 -25 -24 -23 -22 -21 -20 -19 -18 -17 -16 -15 -14 -13 -12 -11 -10 -9 -8 -7 -6 -5 -4 -3 -2 "
     ]
    }
   ],
   "source": [
    "for var in range(-100,-1,1):\n",
    "    print(var,end=' ')"
   ]
  },
  {
   "cell_type": "code",
   "execution_count": 21,
   "metadata": {},
   "outputs": [
    {
     "name": "stdout",
     "output_type": "stream",
     "text": [
      "-5 -10 -15 -20 -25 -30 -35 -40 -45 -50 -55 -60 -65 -70 -75 -80 -85 -90 -95 "
     ]
    }
   ],
   "source": [
    "for var in range(-1,-101,-1):\n",
    "    if var%5==0:\n",
    "        print(var,end=\" \")"
   ]
  },
  {
   "cell_type": "markdown",
   "metadata": {
    "collapsed": true
   },
   "source": [
    "# Bank App;"
   ]
  },
  {
   "cell_type": "code",
   "execution_count": 3,
   "metadata": {},
   "outputs": [
    {
     "name": "stdout",
     "output_type": "stream",
     "text": [
      "Login OR Signup or quit:login\n",
      "enter your account no:1001\n",
      "enter your password:········\n",
      "sucessfully login\n",
      "Login OR Signup or quit:quit\n"
     ]
    }
   ],
   "source": [
    "from getpass import getpass\n",
    "l=[\"login\",\"signup\",\"quit\"]\n",
    "i=0\n",
    "bank={\n",
    "    \"user\":['java','python','c','c++'],\n",
    "    \"acc\":[1001,1002,1003,1004],\n",
    "    \"pas\":[\"netbeans\",\"jupyter\",\"turboc\",\"turboc++\"],\n",
    "    \"bal\":[10000.23,50000.45,5000.65,20000.859]\n",
    "}\n",
    "for var in l:\n",
    "    x=input(\"Login OR Signup or quit:\").lower().strip()\n",
    "    if x==\"login\":\n",
    "        y=int(input(\"enter your account no:\"))\n",
    "        i= bank['acc'].index(y)\n",
    "        z=getpass(\"enter your password:\")\n",
    "        if y==bank[\"acc\"][i] and z==bank[\"pas\"][i]:\n",
    "                print(\"sucessfully login\")\n",
    "                \n",
    "        else:\n",
    "                print(\"invalid id and password\")\n",
    "    elif x==\"signup\":\n",
    "        a=input(\"enter your name:\")\n",
    "        b=getpass(\"enter your password:\")\n",
    "        c=int(input(\"enter your initial balance:\"))\n",
    "        bank[\"user\"]=a\n",
    "        bank[\"pas\"]=b\n",
    "        bank[\"bal\"] =c\n",
    "        print(\"sucesssfully signup\")\n",
    "        pass\n",
    "    else:\n",
    "        break\n",
    "        exit(0)\n",
    "        \n",
    "    \n"
   ]
  },
  {
   "cell_type": "markdown",
   "metadata": {
    "collapsed": true
   },
   "source": [
    "# bank New App;"
   ]
  },
  {
   "cell_type": "code",
   "execution_count": 6,
   "metadata": {},
   "outputs": [
    {
     "name": "stdout",
     "output_type": "stream",
     "text": [
      "\n",
      "\n",
      "\n",
      "**************************************************\n",
      "Welcome to Python Bank\n",
      "**************************************************\n",
      "\n",
      "\n",
      "1. Login \n",
      "2. Signup \n",
      "3. Admin \n",
      "4. Exit\n",
      "Your Choice : 3\n",
      "\n",
      "Enter name : root\n",
      "········\n",
      "\n",
      "user=['ram', 'sam', 'vijay']\n",
      "acc=[1001, 1002, 1003]\n",
      "password=['grras@123', 'something', 'redhat']\n",
      "balance=[10000.23, 20000.45, 124322.234]\n"
     ]
    },
    {
     "ename": "JSONDecodeError",
     "evalue": "Expecting value: line 1 column 1 (char 0)",
     "output_type": "error",
     "traceback": [
      "\u001b[1;31m---------------------------------------------------------------------------\u001b[0m",
      "\u001b[1;31mJSONDecodeError\u001b[0m                           Traceback (most recent call last)",
      "\u001b[1;32m<ipython-input-6-849fe46a5388>\u001b[0m in \u001b[0;36m<module>\u001b[1;34m()\u001b[0m\n\u001b[0;32m    120\u001b[0m                     \u001b[0mprint\u001b[0m\u001b[1;33m(\u001b[0m\u001b[1;34m\"{}={}\"\u001b[0m\u001b[1;33m.\u001b[0m\u001b[0mformat\u001b[0m\u001b[1;33m(\u001b[0m\u001b[0mkey\u001b[0m\u001b[1;33m,\u001b[0m\u001b[0mvalue\u001b[0m\u001b[1;33m)\u001b[0m\u001b[1;33m)\u001b[0m\u001b[1;33m\u001b[0m\u001b[0m\n\u001b[0;32m    121\u001b[0m                 \u001b[0mp\u001b[0m\u001b[1;33m=\u001b[0m\u001b[0mopen\u001b[0m\u001b[1;33m(\u001b[0m\u001b[1;34m\"log.txt\"\u001b[0m\u001b[1;33m,\u001b[0m\u001b[1;34m\"r+\"\u001b[0m\u001b[1;33m)\u001b[0m\u001b[1;33m\u001b[0m\u001b[0m\n\u001b[1;32m--> 122\u001b[1;33m                 \u001b[0ma\u001b[0m\u001b[1;33m=\u001b[0m\u001b[0mjson\u001b[0m\u001b[1;33m.\u001b[0m\u001b[0mload\u001b[0m\u001b[1;33m(\u001b[0m\u001b[0mp\u001b[0m\u001b[1;33m)\u001b[0m\u001b[1;33m\u001b[0m\u001b[0m\n\u001b[0m\u001b[0;32m    123\u001b[0m                 \u001b[0mprint\u001b[0m\u001b[1;33m(\u001b[0m\u001b[0ma\u001b[0m\u001b[1;33m)\u001b[0m\u001b[1;33m\u001b[0m\u001b[0m\n\u001b[0;32m    124\u001b[0m                 \u001b[0mprint\u001b[0m\u001b[1;33m(\u001b[0m\u001b[1;33m)\u001b[0m\u001b[1;33m\u001b[0m\u001b[0m\n",
      "\u001b[1;32mC:\\Anaconda3\\lib\\json\\__init__.py\u001b[0m in \u001b[0;36mload\u001b[1;34m(fp, cls, object_hook, parse_float, parse_int, parse_constant, object_pairs_hook, **kw)\u001b[0m\n\u001b[0;32m    297\u001b[0m         \u001b[0mcls\u001b[0m\u001b[1;33m=\u001b[0m\u001b[0mcls\u001b[0m\u001b[1;33m,\u001b[0m \u001b[0mobject_hook\u001b[0m\u001b[1;33m=\u001b[0m\u001b[0mobject_hook\u001b[0m\u001b[1;33m,\u001b[0m\u001b[1;33m\u001b[0m\u001b[0m\n\u001b[0;32m    298\u001b[0m         \u001b[0mparse_float\u001b[0m\u001b[1;33m=\u001b[0m\u001b[0mparse_float\u001b[0m\u001b[1;33m,\u001b[0m \u001b[0mparse_int\u001b[0m\u001b[1;33m=\u001b[0m\u001b[0mparse_int\u001b[0m\u001b[1;33m,\u001b[0m\u001b[1;33m\u001b[0m\u001b[0m\n\u001b[1;32m--> 299\u001b[1;33m         parse_constant=parse_constant, object_pairs_hook=object_pairs_hook, **kw)\n\u001b[0m\u001b[0;32m    300\u001b[0m \u001b[1;33m\u001b[0m\u001b[0m\n\u001b[0;32m    301\u001b[0m \u001b[1;33m\u001b[0m\u001b[0m\n",
      "\u001b[1;32mC:\\Anaconda3\\lib\\json\\__init__.py\u001b[0m in \u001b[0;36mloads\u001b[1;34m(s, encoding, cls, object_hook, parse_float, parse_int, parse_constant, object_pairs_hook, **kw)\u001b[0m\n\u001b[0;32m    352\u001b[0m             \u001b[0mparse_int\u001b[0m \u001b[1;32mis\u001b[0m \u001b[1;32mNone\u001b[0m \u001b[1;32mand\u001b[0m \u001b[0mparse_float\u001b[0m \u001b[1;32mis\u001b[0m \u001b[1;32mNone\u001b[0m \u001b[1;32mand\u001b[0m\u001b[1;33m\u001b[0m\u001b[0m\n\u001b[0;32m    353\u001b[0m             parse_constant is None and object_pairs_hook is None and not kw):\n\u001b[1;32m--> 354\u001b[1;33m         \u001b[1;32mreturn\u001b[0m \u001b[0m_default_decoder\u001b[0m\u001b[1;33m.\u001b[0m\u001b[0mdecode\u001b[0m\u001b[1;33m(\u001b[0m\u001b[0ms\u001b[0m\u001b[1;33m)\u001b[0m\u001b[1;33m\u001b[0m\u001b[0m\n\u001b[0m\u001b[0;32m    355\u001b[0m     \u001b[1;32mif\u001b[0m \u001b[0mcls\u001b[0m \u001b[1;32mis\u001b[0m \u001b[1;32mNone\u001b[0m\u001b[1;33m:\u001b[0m\u001b[1;33m\u001b[0m\u001b[0m\n\u001b[0;32m    356\u001b[0m         \u001b[0mcls\u001b[0m \u001b[1;33m=\u001b[0m \u001b[0mJSONDecoder\u001b[0m\u001b[1;33m\u001b[0m\u001b[0m\n",
      "\u001b[1;32mC:\\Anaconda3\\lib\\json\\decoder.py\u001b[0m in \u001b[0;36mdecode\u001b[1;34m(self, s, _w)\u001b[0m\n\u001b[0;32m    337\u001b[0m \u001b[1;33m\u001b[0m\u001b[0m\n\u001b[0;32m    338\u001b[0m         \"\"\"\n\u001b[1;32m--> 339\u001b[1;33m         \u001b[0mobj\u001b[0m\u001b[1;33m,\u001b[0m \u001b[0mend\u001b[0m \u001b[1;33m=\u001b[0m \u001b[0mself\u001b[0m\u001b[1;33m.\u001b[0m\u001b[0mraw_decode\u001b[0m\u001b[1;33m(\u001b[0m\u001b[0ms\u001b[0m\u001b[1;33m,\u001b[0m \u001b[0midx\u001b[0m\u001b[1;33m=\u001b[0m\u001b[0m_w\u001b[0m\u001b[1;33m(\u001b[0m\u001b[0ms\u001b[0m\u001b[1;33m,\u001b[0m \u001b[1;36m0\u001b[0m\u001b[1;33m)\u001b[0m\u001b[1;33m.\u001b[0m\u001b[0mend\u001b[0m\u001b[1;33m(\u001b[0m\u001b[1;33m)\u001b[0m\u001b[1;33m)\u001b[0m\u001b[1;33m\u001b[0m\u001b[0m\n\u001b[0m\u001b[0;32m    340\u001b[0m         \u001b[0mend\u001b[0m \u001b[1;33m=\u001b[0m \u001b[0m_w\u001b[0m\u001b[1;33m(\u001b[0m\u001b[0ms\u001b[0m\u001b[1;33m,\u001b[0m \u001b[0mend\u001b[0m\u001b[1;33m)\u001b[0m\u001b[1;33m.\u001b[0m\u001b[0mend\u001b[0m\u001b[1;33m(\u001b[0m\u001b[1;33m)\u001b[0m\u001b[1;33m\u001b[0m\u001b[0m\n\u001b[0;32m    341\u001b[0m         \u001b[1;32mif\u001b[0m \u001b[0mend\u001b[0m \u001b[1;33m!=\u001b[0m \u001b[0mlen\u001b[0m\u001b[1;33m(\u001b[0m\u001b[0ms\u001b[0m\u001b[1;33m)\u001b[0m\u001b[1;33m:\u001b[0m\u001b[1;33m\u001b[0m\u001b[0m\n",
      "\u001b[1;32mC:\\Anaconda3\\lib\\json\\decoder.py\u001b[0m in \u001b[0;36mraw_decode\u001b[1;34m(self, s, idx)\u001b[0m\n\u001b[0;32m    355\u001b[0m             \u001b[0mobj\u001b[0m\u001b[1;33m,\u001b[0m \u001b[0mend\u001b[0m \u001b[1;33m=\u001b[0m \u001b[0mself\u001b[0m\u001b[1;33m.\u001b[0m\u001b[0mscan_once\u001b[0m\u001b[1;33m(\u001b[0m\u001b[0ms\u001b[0m\u001b[1;33m,\u001b[0m \u001b[0midx\u001b[0m\u001b[1;33m)\u001b[0m\u001b[1;33m\u001b[0m\u001b[0m\n\u001b[0;32m    356\u001b[0m         \u001b[1;32mexcept\u001b[0m \u001b[0mStopIteration\u001b[0m \u001b[1;32mas\u001b[0m \u001b[0merr\u001b[0m\u001b[1;33m:\u001b[0m\u001b[1;33m\u001b[0m\u001b[0m\n\u001b[1;32m--> 357\u001b[1;33m             \u001b[1;32mraise\u001b[0m \u001b[0mJSONDecodeError\u001b[0m\u001b[1;33m(\u001b[0m\u001b[1;34m\"Expecting value\"\u001b[0m\u001b[1;33m,\u001b[0m \u001b[0ms\u001b[0m\u001b[1;33m,\u001b[0m \u001b[0merr\u001b[0m\u001b[1;33m.\u001b[0m\u001b[0mvalue\u001b[0m\u001b[1;33m)\u001b[0m \u001b[1;32mfrom\u001b[0m \u001b[1;32mNone\u001b[0m\u001b[1;33m\u001b[0m\u001b[0m\n\u001b[0m\u001b[0;32m    358\u001b[0m         \u001b[1;32mreturn\u001b[0m \u001b[0mobj\u001b[0m\u001b[1;33m,\u001b[0m \u001b[0mend\u001b[0m\u001b[1;33m\u001b[0m\u001b[0m\n",
      "\u001b[1;31mJSONDecodeError\u001b[0m: Expecting value: line 1 column 1 (char 0)"
     ]
    }
   ],
   "source": [
    "from getpass import getpass\n",
    "import json\n",
    "import time\n",
    "bank = { \n",
    "        'user' : [ 'ram', 'sam','vijay' ],\n",
    "        'acc' : [ 1001, 1002, 1003 ],\n",
    "        'password' : [ 'grras@123', 'something', 'redhat'],\n",
    "        'balance' : [ 10000.23, 20000.45, 124322.234]\n",
    "        }\n",
    "admin = 'root'\n",
    "admin_password = 'redhat@123'\n",
    "p=open(\"log.txt\",\"w+\")\n",
    "p.close()\n",
    "\n",
    "while True :\n",
    "    print(\"\\n\\n\")\n",
    "    print(\"*\"*50)\n",
    "    print(\"Welcome to Python Bank\")\n",
    "    print(\"*\"*50)\n",
    "    print(\"\\n\\n1. Login \\n2. Signup \\n3. Admin \\n4. Exit\")\n",
    "    ch = int(input(\"Your Choice : \"))\n",
    "    \n",
    "    if ch == 1 :\n",
    "        print(\"\\n\\n\")\n",
    "        uacc = int(input(\"Acc Number : \"))\n",
    "        if uacc in bank['acc'] :\n",
    "            upass = getpass(\"Password : \")\n",
    "            index = bank['acc'].index(uacc)\n",
    "            if upass == bank['password'][index]:\n",
    "                p=open(\"log.txt\",\"a\")\n",
    "                s=\"user login at {} \".format(time.ctime())\n",
    "                p.write(s)\n",
    "                p.close()\n",
    "                while True :\n",
    "                    print(\"\\n\\n1. Debit\\n2. Credit\\n3. Check Balance\\n4. Change Password \\n5. Logout\")\n",
    "                    ch = int(input(\"Choice : \"))\n",
    "                    if ch == 1 :\n",
    "                        ab=bank['balance'][index]\n",
    "                        print(\"\\n \\nAvailable balance : \",ab)\n",
    "                        da=int(input(\"\\nenter the amount to debit : \"))\n",
    "                        if da<=ab:\n",
    "                            print(\"\\ncollect your cash\")\n",
    "                            ab=ab-da\n",
    "                            print(\"\\nAvailable balance after withdrawl: \",ab)\n",
    "                            p=open(\"log.txt\",\"a\")\n",
    "                            s=\"user withdraws amount at {} \".format(time.ctime())\n",
    "                            p.write(s)\n",
    "                            p.close()\n",
    "                            \n",
    "                        else:\n",
    "                            print(\"\\n insufficient balance\")\n",
    "                            break\n",
    "                            p=open(\"log.txt\",\"a\")\n",
    "                            s=\"user unable to withdraw amount at {} \".format(time.ctime())\n",
    "                            p.write(s)\n",
    "                            p.close()\n",
    "                    elif ch == 2 :\n",
    "                        ca=int(input(\"\\nEnter the amount you want to credit : \"))\n",
    "                        bank['balance'][index] += ca\n",
    "                        print(\"\\nAccount balance after crediting money : \",bank['balance'][index])\n",
    "                        p=open(\"log.txt\",\"a\")\n",
    "                        s=\"user deposited amount at {} \".format(time.ctime())\n",
    "                        p.write(s)\n",
    "                        p.close()\n",
    "                \n",
    "                    elif ch == 3:\n",
    "                        print(\"\\nYour Account balance is : \",bank['balance'][index])                        \n",
    "                    elif ch == 4 : \n",
    "                        op=getpass(\"\\n enter your old password : \")\n",
    "                        pp=bank['password'][index]\n",
    "                        if op==pp:\n",
    "                            np=getpass(\"\\n enter new password : \")\n",
    "                            cp=getpass(\"\\n confirn new password : \")\n",
    "                            if np==cp:\n",
    "                                bank['password'][index] = np\n",
    "                                print(\"\\n password changed successfully : \")\n",
    "                                p=open(\"log.txt\",\"a\")\n",
    "                                s=\"user changed password at {} \".format(time.ctime())\n",
    "                                p.write(s)\n",
    "                                p.close()\n",
    "                \n",
    "                            else:\n",
    "                                print(\"\\n password do not match, Try again : \")\n",
    "                        else:\n",
    "                            print(\"\\n Old password do not match : \")\n",
    "                    elif ch == 5 :\n",
    "                        print(\"\\nLogging you out.....\\n\")\n",
    "                        break\n",
    "                    else :\n",
    "                        print(\"\\n\\nInvalid Choice \")\n",
    "                        print(\"Try Again\")\n",
    "            else :\n",
    "                print(\"\\n\\nInvalid Password\\n\\nTry Again\")\n",
    "                p=open(\"log.txt\",\"a\")\n",
    "                s=\"user tried wrong password at {}\".format(time.ctime())\n",
    "                p.write(s)\n",
    "                p.close()\n",
    "            \n",
    "        else :\n",
    "            print(\"\\n\\nNo such Account Exists \\nYou should signup\\n\\n\")\n",
    "    elif ch == 2 :\n",
    "        acc = bank['acc'][-1] + 1\n",
    "        name = input(\"Username : \")\n",
    "        bal = float(input(\"Initial Blance : \"))\n",
    "        password = getpass(\"Set Password : \")\n",
    "        bank['user'].append(name)\n",
    "        bank['acc'].append(acc)\n",
    "        bank['password'].append(password)\n",
    "        bank['balance'].append(bal)\n",
    "        print(\"\\nAccount Sucessfully Created\")\n",
    "        print(\"Note down your account num :  {}\".format(acc))\n",
    "        print(\"Now you can login\\n\")\n",
    "    elif ch == 3 :\n",
    "        username = input(\"\\nEnter name : \").strip().lower()\n",
    "        password = getpass()\n",
    "        if username == admin : \n",
    "            if password == admin_password :\n",
    "                print()\n",
    "                for key,value in bank.items():\n",
    "                    print(\"{}={}\".format(key,value))\n",
    "                print()\n",
    "            else :\n",
    "                print(\"\\nInvalid password \\nTry Again\")\n",
    "        else :\n",
    "            print(\"\\nThis user is not an admin.\")\n",
    "    elif ch == 4 :\n",
    "        ch = input(\"\\n\\nDo really want to exit ? (y/n) : \").strip().lower()\n",
    "        if ch == 'y' or ch == 'yes' :      \n",
    "            print(\"\\nThanks for useing our services \")\n",
    "            break\n",
    "    else :\n",
    "        print(\"\\nInvalidChoice\\nTry again\")"
   ]
  },
  {
   "cell_type": "code",
   "execution_count": 16,
   "metadata": {},
   "outputs": [
    {
     "name": "stdout",
     "output_type": "stream",
     "text": [
      "*\n",
      "**\n",
      "***\n",
      "****\n",
      "*****\n",
      "******\n",
      "*******\n",
      "********\n",
      "*********\n"
     ]
    }
   ],
   "source": [
    "for var in range(1,10):\n",
    "    print(\"*\"*var)"
   ]
  },
  {
   "cell_type": "code",
   "execution_count": 4,
   "metadata": {
    "scrolled": true
   },
   "outputs": [
    {
     "name": "stdout",
     "output_type": "stream",
     "text": [
      "**********\n",
      "*********\n",
      "********\n",
      "*******\n",
      "******\n",
      "*****\n",
      "****\n",
      "***\n",
      "**\n",
      "*\n"
     ]
    }
   ],
   "source": [
    "for var in range(10,0,-1):\n",
    "    print(\"*\"*var)"
   ]
  },
  {
   "cell_type": "code",
   "execution_count": 2,
   "metadata": {},
   "outputs": [
    {
     "name": "stdout",
     "output_type": "stream",
     "text": [
      "          *\n",
      "         **\n",
      "        ***\n",
      "       ****\n",
      "      *****\n",
      "     ******\n",
      "    *******\n",
      "   ********\n",
      "  *********\n"
     ]
    }
   ],
   "source": [
    "m=1\n",
    "for var in range(10,1,-1):\n",
    "    k=var-1\n",
    "    print(\" \"*k,\"*\"*m)\n",
    "    m=m+1"
   ]
  },
  {
   "cell_type": "code",
   "execution_count": 3,
   "metadata": {},
   "outputs": [
    {
     "name": "stdout",
     "output_type": "stream",
     "text": [
      "          * \n",
      "         * * \n",
      "        * * * \n",
      "       * * * * \n",
      "      * * * * * \n",
      "     * * * * * * \n",
      "    * * * * * * * \n",
      "   * * * * * * * * \n",
      "  * * * * * * * * * \n"
     ]
    }
   ],
   "source": [
    "m=1\n",
    "for var in range(10,1,-1):\n",
    "    k=var-1\n",
    "    print(\" \"*k,\"* \"*m)\n",
    "    m=m+1"
   ]
  },
  {
   "cell_type": "code",
   "execution_count": 7,
   "metadata": {
    "scrolled": true
   },
   "outputs": [
    {
     "name": "stdout",
     "output_type": "stream",
     "text": [
      " * * * * * * * * * * \n",
      "  * * * * * * * * * \n",
      "   * * * * * * * * \n",
      "    * * * * * * * \n",
      "     * * * * * * \n",
      "      * * * * * \n",
      "       * * * * \n",
      "        * * * \n",
      "         * * \n",
      "          * \n"
     ]
    }
   ],
   "source": [
    "m=10\n",
    "for var in range(1,11):\n",
    "    k=var-1\n",
    "    print(\" \"*k,\"* \"*m)\n",
    "    m=m-1"
   ]
  },
  {
   "cell_type": "code",
   "execution_count": 35,
   "metadata": {},
   "outputs": [
    {
     "name": "stdout",
     "output_type": "stream",
     "text": [
      "1 \n",
      "\n",
      "1 2 \n",
      "\n",
      "1 2 3 \n",
      "\n",
      "1 2 3 4 \n",
      "\n",
      "1 2 3 4 5 \n",
      "\n"
     ]
    }
   ],
   "source": [
    "for var in range(1,6):\n",
    "    m=1\n",
    "    while m<=var:\n",
    "        print(m,end=' ',)\n",
    "        m=m+1\n",
    "    print(\"\\n\")    "
   ]
  },
  {
   "cell_type": "code",
   "execution_count": 34,
   "metadata": {},
   "outputs": [
    {
     "name": "stdout",
     "output_type": "stream",
     "text": [
      "1 \n",
      "\n",
      "2 2 \n",
      "\n",
      "3 3 3 \n",
      "\n",
      "4 4 4 4 \n",
      "\n",
      "5 5 5 5 5 \n",
      "\n"
     ]
    }
   ],
   "source": [
    "for var in range(1,6):\n",
    "    m=1\n",
    "    while m<=var:\n",
    "        print(var,end=' ',)\n",
    "        m=m+1\n",
    "    print(\"\\n\")    "
   ]
  },
  {
   "cell_type": "code",
   "execution_count": 41,
   "metadata": {},
   "outputs": [
    {
     "name": "stdout",
     "output_type": "stream",
     "text": [
      "a \n",
      "\n",
      "a b \n",
      "\n",
      "a b c \n",
      "\n",
      "a b c d \n",
      "\n",
      "a b c d e \n",
      "\n"
     ]
    }
   ],
   "source": [
    "s=[\"a\",\"b\",\"c\",\"d\",\"e\"]\n",
    "for var in range(0,5):\n",
    "    m=0\n",
    "    while m<=var:\n",
    "        print(s[m],end=' ',)\n",
    "        m=m+1\n",
    "    print(\"\\n\")    "
   ]
  },
  {
   "cell_type": "code",
   "execution_count": 43,
   "metadata": {},
   "outputs": [
    {
     "name": "stdout",
     "output_type": "stream",
     "text": [
      "A \n",
      "\n",
      "B B \n",
      "\n",
      "C C C \n",
      "\n",
      "D D D D \n",
      "\n",
      "E E E E E \n",
      "\n"
     ]
    }
   ],
   "source": [
    "s=[\"a\",\"b\",\"c\",\"d\",\"e\"]\n",
    "for var in range(0,5):\n",
    "    m=0\n",
    "    while m<=var:\n",
    "        print(s[var].upper(),end=' ',)\n",
    "        m=m+1\n",
    "    print(\"\\n\")    "
   ]
  },
  {
   "cell_type": "code",
   "execution_count": 72,
   "metadata": {},
   "outputs": [
    {
     "name": "stdout",
     "output_type": "stream",
     "text": [
      " * * * * * * * * * * \n",
      "  * * * * * * * * * \n",
      "   * * * * * * * * \n",
      "    * * * * * * * \n",
      "     * * * * * * \n",
      "      * * * * * \n",
      "       * * * * \n",
      "        * * * \n",
      "         * * \n",
      "          * \n",
      "          * \n",
      "         * * \n",
      "        * * * \n",
      "       * * * * \n",
      "      * * * * * \n",
      "     * * * * * * \n",
      "    * * * * * * * \n",
      "   * * * * * * * * \n",
      "  * * * * * * * * * \n",
      " * * * * * * * * * * \n"
     ]
    }
   ],
   "source": [
    "m=10\n",
    "for var in range(1,11):\n",
    "    k=var-1\n",
    "    print(\" \"*k,\"* \"*m)\n",
    "    m=m-1\n",
    "m=1\n",
    "for var in range(10,0,-1):\n",
    "    k=var-1\n",
    "    print(\" \"*k,\"* \"*m)\n",
    "    m=m+1    "
   ]
  },
  {
   "cell_type": "code",
   "execution_count": 84,
   "metadata": {},
   "outputs": [
    {
     "name": "stdout",
     "output_type": "stream",
     "text": [
      "          * \n",
      "         * * \n",
      "        * * * \n",
      "       * * * * \n",
      "      * * * * * \n",
      "     * * * * * * \n",
      "    * * * * * * * \n",
      "   * * * * * * * * \n",
      "  * * * * * * * * * \n",
      " * * * * * * * * * * \n",
      "  * * * * * * * * * \n",
      "   * * * * * * * * \n",
      "    * * * * * * * \n",
      "     * * * * * * \n",
      "      * * * * * \n",
      "       * * * * \n",
      "        * * * \n",
      "         * * \n",
      "          * \n",
      "           \n"
     ]
    }
   ],
   "source": [
    "m=1\n",
    "for var in range(10,0,-1):\n",
    "    k=var-1\n",
    "    print(\" \"*k,\"* \"*m)\n",
    "    m=m+1 \n",
    "m=9\n",
    "for var in range(1,11):\n",
    "    k=var-1\n",
    "    print(\" \"*k,\"\",\"* \"*m)\n",
    "    m=m-1    "
   ]
  },
  {
   "cell_type": "code",
   "execution_count": 95,
   "metadata": {},
   "outputs": [
    {
     "name": "stdout",
     "output_type": "stream",
     "text": [
      "         * * * * \n",
      "       * * * * * * * * \n",
      "     * * * * * * * * * * * * \n",
      "   * * * * * * * * * * * * * * * * \n",
      " * * * * * * * * * * * * * * * * * * * * \n"
     ]
    }
   ],
   "source": [
    "m=1\n",
    "n=1\n",
    "for var in range(10,0,-1):\n",
    "    if var % 2!=0:\n",
    "        k=var-1\n",
    "        print(\" \"*k,\"* \"*m)\n",
    "    else:\n",
    "        pass\n",
    "    n=n+2\n",
    "    m=n+1"
   ]
  },
  {
   "cell_type": "code",
   "execution_count": 87,
   "metadata": {},
   "outputs": [
    {
     "name": "stdout",
     "output_type": "stream",
     "text": [
      "*  \t        *\n",
      "**  \t       **\n",
      "***  \t      ***\n",
      "****  \t     ****\n",
      "*****  \t    *****\n"
     ]
    }
   ],
   "source": [
    "m=1\n",
    "n=5\n",
    "for var in range(1,6):\n",
    "    k=var+n\n",
    "    print(\"*\"*var,\"\",\"\\t\",\" \"*k,\"*\"*m)\n",
    "    m=m+1\n",
    "    n=n-2"
   ]
  },
  {
   "cell_type": "markdown",
   "metadata": {
    "collapsed": true
   },
   "source": [
    "#         Print swastik pattern"
   ]
  },
  {
   "cell_type": "markdown",
   "metadata": {},
   "source": [
    "vbgfhtrfh"
   ]
  },
  {
   "cell_type": "code",
   "execution_count": 62,
   "metadata": {},
   "outputs": [
    {
     "name": "stdout",
     "output_type": "stream",
     "text": [
      "enter a no:20\n",
      "                    * \n",
      "                  * * * \n",
      "                * * * * * \n",
      "              * * * * * * * \n",
      "            * * * * * * * * * \n",
      "          * * * * * * * * * * * \n",
      "        * * * * * * * * * * * * * \n",
      "      * * * * * * * * * * * * * * * \n",
      "    * * * * * * * * * * * * * * * * * \n",
      "  * * * * * * * * * * * * * * * * * * * \n"
     ]
    }
   ],
   "source": [
    "m=0\n",
    "x=int(input(\"enter a no:\"))\n",
    "for var in range(x,1,-1):\n",
    "    m=m+1\n",
    "    if m%2==0:\n",
    "        pass\n",
    "    else:\n",
    "        k=var-1\n",
    "        print(\" \"*k,\"* \"*m)"
   ]
  },
  {
   "cell_type": "code",
   "execution_count": 69,
   "metadata": {},
   "outputs": [
    {
     "name": "stdout",
     "output_type": "stream",
     "text": [
      "enter a no15\n",
      "  ***************\n",
      "   **************\n",
      "    *************\n",
      "     ************\n",
      "      ***********\n",
      "       **********\n",
      "        *********\n",
      "         ********\n",
      "          *******\n",
      "           ******\n",
      "            *****\n",
      "             ****\n",
      "              ***\n",
      "               **\n",
      "                *\n"
     ]
    }
   ],
   "source": [
    "m=int(input(\"enter a no\"))\n",
    "for var in range(0,m):\n",
    "    k=var+1\n",
    "    print(\" \"*k,\"*\"*m)\n",
    "    m=m-1"
   ]
  },
  {
   "cell_type": "code",
   "execution_count": null,
   "metadata": {
    "collapsed": true
   },
   "outputs": [],
   "source": []
  }
 ],
 "metadata": {
  "kernelspec": {
   "display_name": "Python 3",
   "language": "python",
   "name": "python3"
  },
  "language_info": {
   "codemirror_mode": {
    "name": "ipython",
    "version": 3
   },
   "file_extension": ".py",
   "mimetype": "text/x-python",
   "name": "python",
   "nbconvert_exporter": "python",
   "pygments_lexer": "ipython3",
   "version": "3.6.3"
  }
 },
 "nbformat": 4,
 "nbformat_minor": 2
}
