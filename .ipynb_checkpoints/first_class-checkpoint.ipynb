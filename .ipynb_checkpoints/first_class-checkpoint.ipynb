{
 "cells": [
  {
   "cell_type": "markdown",
   "metadata": {},
   "source": [
    "# MY FIRST PROGRAM = Day-1\n"
   ]
  },
  {
   "cell_type": "code",
   "execution_count": 1,
   "metadata": {},
   "outputs": [
    {
     "name": "stdout",
     "output_type": "stream",
     "text": [
      "welcome to my first program\n"
     ]
    }
   ],
   "source": [
    "print(\"welcome to my first program\")"
   ]
  },
  {
   "cell_type": "markdown",
   "metadata": {},
   "source": [
    "# My 2nd program "
   ]
  },
  {
   "cell_type": "code",
   "execution_count": 3,
   "metadata": {},
   "outputs": [
    {
     "name": "stdout",
     "output_type": "stream",
     "text": [
      "enter your name: ahj\n",
      "welcome ahj\n"
     ]
    }
   ],
   "source": [
    "name=input(\"enter your name: \")\n",
    "print(\"welcome\",name)\n"
   ]
  },
  {
   "cell_type": "markdown",
   "metadata": {},
   "source": [
    "# Data types in python\n"
   ]
  },
  {
   "cell_type": "markdown",
   "metadata": {},
   "source": [
    "# 1.Numbers                                                                                                                      2.String                                                                                                                          3.List                                                                                                                              4.Tuple                                                                                                                            5.Dictionary                                                                                                                    6.sets"
   ]
  },
  {
   "cell_type": "code",
   "execution_count": 4,
   "metadata": {},
   "outputs": [
    {
     "name": "stdout",
     "output_type": "stream",
     "text": [
      "<class 'int'> 5\n",
      "<class 'float'> 3.14\n",
      "<class 'complex'> (3.14+5j)\n"
     ]
    }
   ],
   "source": [
    "#1. Numbers are of 3 types\n",
    "#Integer\n",
    "x=5 # 5 will store in x so we can say x is a container or variable\n",
    "#float\n",
    "y=3.14 #  float are real numbers\n",
    "#complex\n",
    "z=3.14+5j\n",
    "print(type(x),x)\n",
    "print(type(y),y)\n",
    "print(type(z),z)\n"
   ]
  },
  {
   "cell_type": "code",
   "execution_count": 5,
   "metadata": {},
   "outputs": [
    {
     "name": "stdout",
     "output_type": "stream",
     "text": [
      "enter a no:5\n",
      "enter a no:5.14\n",
      "enter a no5+4j\n",
      "<class 'int'> 5\n",
      "<class 'float'> 5.14\n",
      "<class 'complex'> (5+4j)\n"
     ]
    }
   ],
   "source": [
    "#new program\n",
    "x=int(input(\"enter a no:\"))\n",
    "y=float(input(\"enter a no:\"))\n",
    "z=complex(input(\"enter a no\"))\n",
    "print(type(x),x)\n",
    "print(type(y),y)\n",
    "print(type(z),z)"
   ]
  },
  {
   "cell_type": "code",
   "execution_count": 8,
   "metadata": {},
   "outputs": [
    {
     "name": "stdout",
     "output_type": "stream",
     "text": [
      "enter value of x:5.255655454\n",
      "enter value of y:4\n",
      "addition of 5.255655454 and 4.0 is = 9.255655454\n",
      "addition of 5.26 and 4.00 is = 9.26 \n"
     ]
    }
   ],
   "source": [
    "x=float(input(\"enter value of x:\"))\n",
    "y=float(input(\"enter value of y:\"))\n",
    "z=x+y\n",
    "print(\"addition of {} and {} is = {}\".format(x,y,z))\n",
    "print(\"addition of %.2f and %.2f is = %.2f \"%(x,y,z))"
   ]
  },
  {
   "cell_type": "markdown",
   "metadata": {
    "collapsed": true
   },
   "source": [
    "# Day-2  (29-05-18)\n"
   ]
  },
  {
   "cell_type": "markdown",
   "metadata": {},
   "source": [
    "# String"
   ]
  },
  {
   "cell_type": "code",
   "execution_count": 5,
   "metadata": {
    "collapsed": true
   },
   "outputs": [],
   "source": [
    "#python always uses a UTF-8 type characters. \n",
    "#string data sholud always be in single or double quotes.\n",
    "#triple quots always used for paragraph.\n",
    "x='hi , single quoted string'\n",
    "y=\"hi , double quoted string\"\n",
    "z=\"\"\" multiline paragraph \n",
    "\n",
    "\n",
    "hkuihf\n",
    "jyhj\"\"\""
   ]
  },
  {
   "cell_type": "code",
   "execution_count": 8,
   "metadata": {},
   "outputs": [
    {
     "name": "stdout",
     "output_type": "stream",
     "text": [
      "lenth of x= 6\n"
     ]
    }
   ],
   "source": [
    "# to find a length of a string we uses a fN \"len()\"\n",
    "x=\"Python\"\n",
    "k=len(x)\n",
    "print(\"lenth of x=\",k)"
   ]
  },
  {
   "cell_type": "markdown",
   "metadata": {},
   "source": [
    "# Indexing"
   ]
  },
  {
   "cell_type": "code",
   "execution_count": 9,
   "metadata": {},
   "outputs": [
    {
     "name": "stdout",
     "output_type": "stream",
     "text": [
      "lenth of x= 6\n",
      "h\n"
     ]
    }
   ],
   "source": [
    "x=\"Python\"\n",
    "k=len(x)\n",
    "print(\"lenth of x=\",k)\n",
    "print(x[3])"
   ]
  },
  {
   "cell_type": "markdown",
   "metadata": {},
   "source": [
    "# Slicing"
   ]
  },
  {
   "cell_type": "code",
   "execution_count": 13,
   "metadata": {},
   "outputs": [
    {
     "name": "stdout",
     "output_type": "stream",
     "text": [
      "interpreter\n",
      "python is interpreter\n",
      " language\n"
     ]
    }
   ],
   "source": [
    "#slicing is a way to print substring of a string\n",
    "x=\"python is interpreter language\"\n",
    "y=x[10:21]\n",
    "z=x[:21]\n",
    "m=x[21:]\n",
    "print(y)\n",
    "print(z)\n",
    "print(m)"
   ]
  },
  {
   "cell_type": "code",
   "execution_count": 16,
   "metadata": {},
   "outputs": [
    {
     "name": "stdout",
     "output_type": "stream",
     "text": [
      "02468\n",
      "9876543210\n"
     ]
    }
   ],
   "source": [
    "#example for slicing\n",
    "x=\"0123456789\"\n",
    "k=x[::2]\n",
    "print(k)\n",
    "l=x[::-1]# for reversing the string\n",
    "print(l)"
   ]
  },
  {
   "cell_type": "code",
   "execution_count": 18,
   "metadata": {
    "scrolled": true
   },
   "outputs": [
    {
     "name": "stdout",
     "output_type": "stream",
     "text": [
      "u era woh, olleh\n",
      "woh\n"
     ]
    }
   ],
   "source": [
    "s=\"hello ,how are u\"\n",
    "k=s[::-1]\n",
    "l=s[-7:-10:-1]\n",
    "print(k)\n",
    "print(l)"
   ]
  },
  {
   "cell_type": "code",
   "execution_count": 19,
   "metadata": {},
   "outputs": [
    {
     "name": "stdout",
     "output_type": "stream",
     "text": [
      "['__add__', '__class__', '__contains__', '__delattr__', '__dir__', '__doc__', '__eq__', '__format__', '__ge__', '__getattribute__', '__getitem__', '__getnewargs__', '__gt__', '__hash__', '__init__', '__init_subclass__', '__iter__', '__le__', '__len__', '__lt__', '__mod__', '__mul__', '__ne__', '__new__', '__reduce__', '__reduce_ex__', '__repr__', '__rmod__', '__rmul__', '__setattr__', '__sizeof__', '__str__', '__subclasshook__', 'capitalize', 'casefold', 'center', 'count', 'encode', 'endswith', 'expandtabs', 'find', 'format', 'format_map', 'index', 'isalnum', 'isalpha', 'isdecimal', 'isdigit', 'isidentifier', 'islower', 'isnumeric', 'isprintable', 'isspace', 'istitle', 'isupper', 'join', 'ljust', 'lower', 'lstrip', 'maketrans', 'partition', 'replace', 'rfind', 'rindex', 'rjust', 'rpartition', 'rsplit', 'rstrip', 'split', 'splitlines', 'startswith', 'strip', 'swapcase', 'title', 'translate', 'upper', 'zfill']\n"
     ]
    }
   ],
   "source": [
    "x=\"hellow\"\n",
    "print(dir(x))"
   ]
  },
  {
   "cell_type": "code",
   "execution_count": null,
   "metadata": {
    "collapsed": true
   },
   "outputs": [],
   "source": [
    "s=\"Hello world\"\n",
    "m=input(\"enter the word:\")\n",
    "k=s.upper()\n",
    "l=s.lower()\n",
    "z=s.swapcase()\n",
    "b=s.split()\n",
    "m=s.zfill(3)\n",
    "j=s.find(m[:])\n",
    "print(j)\n",
    "print(s)\n",
    "print(k)\n",
    "print(l)\n",
    "print(z)\n",
    "print(b)\n",
    "print(m)\n"
   ]
  },
  {
   "cell_type": "code",
   "execution_count": 24,
   "metadata": {},
   "outputs": [
    {
     "name": "stdout",
     "output_type": "stream",
     "text": [
      "S.title() -> str\n",
      "\n",
      "Return a titlecased version of S, i.e. words start with title case\n",
      "characters, all remaining cased characters have lower case.\n"
     ]
    }
   ],
   "source": [
    "s=\"python\"\n",
    "#to find documentation we use\n",
    "k=s.title.__doc__\n",
    "print(k)"
   ]
  },
  {
   "cell_type": "code",
   "execution_count": 26,
   "metadata": {},
   "outputs": [
    {
     "name": "stdout",
     "output_type": "stream",
     "text": [
      "0\n",
      "all cats are cat bt all cats are not cat\n"
     ]
    }
   ],
   "source": [
    "#to find any string in any sentence we use a fn \"find\"ex\n",
    "s=\"all cats are dog bt all dogs are not cat\"\n",
    "l=s.find('all')\n",
    "print(l)\n",
    "#AND to replace any two strings we uses a replace fn\n",
    "k=s.replace('dog','cat')\n",
    "print(k)"
   ]
  },
  {
   "cell_type": "markdown",
   "metadata": {},
   "source": [
    "# List\n"
   ]
  },
  {
   "cell_type": "code",
   "execution_count": 27,
   "metadata": {
    "scrolled": true
   },
   "outputs": [
    {
     "name": "stdout",
     "output_type": "stream",
     "text": [
      "[1, 2, 3, 4, 5, 6, 7]\n",
      "1 2 3 4 5 6 7\n",
      "1 2.1 hellow\n"
     ]
    }
   ],
   "source": [
    "#all lists are not arrays bt all arrays are  list\n",
    "#list is A collection of data types\n",
    "#list are of two types\n",
    "#1.Homogenous{arrays}\n",
    "#2.Hetrogenous{structure}\n",
    "list=[1,2,3,4,5,6,7]#homogenous list or array\n",
    "list1=[1,2.1,\"hellow\"]#heterogenous list\n",
    "print(list)\n",
    "print(*list)#to avoid brackts we use star\n",
    "print(*list1)\n"
   ]
  },
  {
   "cell_type": "code",
   "execution_count": 3,
   "metadata": {},
   "outputs": [
    {
     "name": "stdout",
     "output_type": "stream",
     "text": [
      "[3, 45, 64]\n",
      "['__add__', '__class__', '__contains__', '__delattr__', '__delitem__', '__dir__', '__doc__', '__eq__', '__format__', '__ge__', '__getattribute__', '__getitem__', '__gt__', '__hash__', '__iadd__', '__imul__', '__init__', '__init_subclass__', '__iter__', '__le__', '__len__', '__lt__', '__mul__', '__ne__', '__new__', '__reduce__', '__reduce_ex__', '__repr__', '__reversed__', '__rmul__', '__setattr__', '__setitem__', '__sizeof__', '__str__', '__subclasshook__', 'append', 'clear', 'copy', 'count', 'extend', 'index', 'insert', 'pop', 'remove', 'reverse', 'sort']\n"
     ]
    }
   ],
   "source": [
    "#list also supports indexing and slicing\n",
    "list =[1,2,3,45,64]\n",
    "k=list[2:5]\n",
    "print(k)\n",
    "print(dir(list))"
   ]
  },
  {
   "cell_type": "markdown",
   "metadata": {
    "collapsed": true
   },
   "source": [
    "list functions"
   ]
  },
  {
   "cell_type": "markdown",
   "metadata": {},
   "source": [
    "# fn that are used to add items"
   ]
  },
  {
   "cell_type": "code",
   "execution_count": 1,
   "metadata": {},
   "outputs": [
    {
     "name": "stdout",
     "output_type": "stream",
     "text": [
      "[]\n",
      "1 2.1 hellow bye\n",
      "1 2.1 hu hellow bye\n",
      "1 2.1 5 hellow bye\n",
      "1 2.1 5 hellow bye p y t h o n\n",
      "['__add__', '__class__', '__contains__', '__delattr__', '__delitem__', '__dir__', '__doc__', '__eq__', '__format__', '__ge__', '__getattribute__', '__getitem__', '__gt__', '__hash__', '__iadd__', '__imul__', '__init__', '__init_subclass__', '__iter__', '__le__', '__len__', '__lt__', '__mul__', '__ne__', '__new__', '__reduce__', '__reduce_ex__', '__repr__', '__reversed__', '__rmul__', '__setattr__', '__setitem__', '__sizeof__', '__str__', '__subclasshook__', 'append', 'clear', 'copy', 'count', 'extend', 'index', 'insert', 'pop', 'remove', 'reverse', 'sort']\n"
     ]
    },
    {
     "data": {
      "text/plain": [
       "'L.index(value, [start, [stop]]) -> integer -- return first index of value.\\nRaises ValueError if the value is not present.'"
      ]
     },
     "execution_count": 1,
     "metadata": {},
     "output_type": "execute_result"
    }
   ],
   "source": [
    "\n",
    "#append:> it is used to add item at the end of list ex-mylist.append(item\n",
    "#insert:> it is used to insert any item at any position by using its index no.\n",
    "list1=[1,2.1,\"hellow\"]\n",
    "print(list1[-1:-5:2])\n",
    "list1.append(\"bye\")\n",
    "print(*list1)\n",
    "#ex-of insert\n",
    "list1.insert(2,\"hu\")\n",
    "print(*list1)\n",
    "#to replace anyb digit we use its index no example\n",
    "list1[2]=5\n",
    "print(*list1)\n",
    "#extend:> used to add multiple items in list\n",
    "list1.extend(\"python\")\n",
    "print(*list1)\n",
    "print(dir(list1))\n",
    "list.index.__doc__"
   ]
  },
  {
   "cell_type": "markdown",
   "metadata": {},
   "source": [
    "# fn that are used to remove items in list"
   ]
  },
  {
   "cell_type": "code",
   "execution_count": 2,
   "metadata": {},
   "outputs": [
    {
     "name": "stdout",
     "output_type": "stream",
     "text": [
      "1 23 hi 4 23 5\n",
      "[1, 23, 'hi', 4, 23, 5]\n",
      "1 hi 4 23 5\n",
      "1 hi 23 5\n"
     ]
    }
   ],
   "source": [
    "list=[1,23,\"hi\",4,23,5,68,\"hello\",\"p\",\"y\",\"t\",\"h\",\"o\",\"n\"]\n",
    "#pop:>it is used to delete items from last from a list\n",
    "list.pop()\n",
    "list.pop()\n",
    "list.pop()\n",
    "list.pop()\n",
    "list.pop()\n",
    "list.pop()\n",
    "list.pop()\n",
    "list.pop()\n",
    "print(*list)\n",
    "list.index(\"hi\")\n",
    "print(list)\n",
    "#remove:>used to remove the given item\n",
    "list.remove(23)\n",
    "print(*list)\n",
    "list.pop(2)\n",
    "print(*list)"
   ]
  },
  {
   "cell_type": "markdown",
   "metadata": {},
   "source": [
    "# common functions"
   ]
  },
  {
   "cell_type": "code",
   "execution_count": 20,
   "metadata": {},
   "outputs": [
    {
     "name": "stdout",
     "output_type": "stream",
     "text": [
      "1\n",
      "[1, 4, 5, 23]\n",
      "[]\n",
      "[1, 4, 5, 23]\n",
      "[23, 5, 4, 1]\n"
     ]
    }
   ],
   "source": [
    "#count:>to count the item which is repeated or the item is present in list or not\n",
    "k=list.count(23)\n",
    "print(k)\n",
    "#copy:>it creates a copy of same list which stores in another list\n",
    "m=list.copy()\n",
    "print(m)\n",
    "#clear:it is used to clear all items from a list\n",
    "m.clear()\n",
    "print(m)\n",
    "list.sort()\n",
    "print(list)\n",
    "list.sort(reverse=True)\n",
    "print(list)\n"
   ]
  },
  {
   "cell_type": "markdown",
   "metadata": {},
   "source": [
    "# Day 3- 30/5\n",
    "\n"
   ]
  },
  {
   "cell_type": "markdown",
   "metadata": {
    "collapsed": true
   },
   "source": [
    "# Tuple"
   ]
  },
  {
   "cell_type": "markdown",
   "metadata": {},
   "source": [
    "Tuples are immutable data types or uneditable data types that can not be changed after it's defination\n",
    "#we can only apply count and index function on tuple"
   ]
  },
  {
   "cell_type": "code",
   "execution_count": 13,
   "metadata": {},
   "outputs": [
    {
     "name": "stdout",
     "output_type": "stream",
     "text": [
      "['__add__', '__class__', '__contains__', '__delattr__', '__dir__', '__doc__', '__eq__', '__format__', '__ge__', '__getattribute__', '__getitem__', '__getnewargs__', '__gt__', '__hash__', '__init__', '__init_subclass__', '__iter__', '__le__', '__len__', '__lt__', '__mul__', '__ne__', '__new__', '__reduce__', '__reduce_ex__', '__repr__', '__rmul__', '__setattr__', '__sizeof__', '__str__', '__subclasshook__', 'count', 'index']\n",
      "('two', 'one')\n",
      "1\n",
      "3\n",
      "4\n"
     ]
    }
   ],
   "source": [
    "t = ('one','two',1,2,3,[1,2,3,4])\n",
    "print(dir(t))\n",
    "print(t[1::-1])\n",
    "print(t.count(2))\n",
    "print(t.index(2))\n",
    "print(t[5][3])"
   ]
  },
  {
   "cell_type": "code",
   "execution_count": 15,
   "metadata": {},
   "outputs": [
    {
     "name": "stdout",
     "output_type": "stream",
     "text": [
      "2\n"
     ]
    }
   ],
   "source": [
    "#Example of 2-d list\n",
    "list=[\n",
    "    [1,2,3],\n",
    "    [4,5,6],\n",
    "    [7,8,9],#POSITON WILL BE COUNTED AS COUNTED IN MATRIX\n",
    "]\n",
    "print(list[0][1])"
   ]
  },
  {
   "cell_type": "markdown",
   "metadata": {},
   "source": [
    "# Dictionary"
   ]
  },
  {
   "cell_type": "markdown",
   "metadata": {},
   "source": [
    "dictionaries are the collection of keys and values"
   ]
  },
  {
   "cell_type": "code",
   "execution_count": 1,
   "metadata": {},
   "outputs": [
    {
     "name": "stdout",
     "output_type": "stream",
     "text": [
      "{'name': 'python', 'scope': 'world wide', 'build_year': '1994', 'frameworks': ['Django', 'flask', 'web2py', 'Pyramid'], 'father': 'Guido Van Rossum', 'fields': ['Scripting', 'Automation', 'cloud', 'ai', 'ml', 'data_science', 'web_designing', 'software_development']}\n",
      "name scope build_year frameworks father fields\n",
      "python\n",
      "['__class__', '__contains__', '__delattr__', '__delitem__', '__dir__', '__doc__', '__eq__', '__format__', '__ge__', '__getattribute__', '__getitem__', '__gt__', '__hash__', '__init__', '__init_subclass__', '__iter__', '__le__', '__len__', '__lt__', '__ne__', '__new__', '__reduce__', '__reduce_ex__', '__repr__', '__setattr__', '__setitem__', '__sizeof__', '__str__', '__subclasshook__', 'clear', 'copy', 'fromkeys', 'get', 'items', 'keys', 'pop', 'popitem', 'setdefault', 'update', 'values']\n"
     ]
    }
   ],
   "source": [
    "d ={\n",
    "    'name':'python','scope':'world wide','build_year':'1994',\n",
    "    'frameworks':['Django','flask','web2py','Pyramid'],\n",
    "    'father':'Guido Van Rossum',\n",
    "    'fields':['Scripting','Automation','cloud','ai','ml','data_science','web_designing','software_development']\n",
    "}\n",
    "print(d)\n",
    "print(*d)# * is used to print keys stored in dictionary\n",
    "print(d.get(\"name\"))\n",
    "print(dir(d))"
   ]
  },
  {
   "cell_type": "markdown",
   "metadata": {},
   "source": [
    "# ASSIGNMENT-1 \n",
    "TO FIND ABOUT ALL THE FUNCTION USED IN DICTIONARY"
   ]
  },
  {
   "cell_type": "code",
   "execution_count": 1,
   "metadata": {},
   "outputs": [
    {
     "name": "stdout",
     "output_type": "stream",
     "text": [
      "dict_keys(['name', 'scope', 'build_year', 'frameworks', 'father', 'fields'])\n",
      "enter a key:name\n",
      "python\n",
      "enter your new key:a\n",
      "enter the value of your new key:v\n",
      "v succesfully added\n"
     ]
    },
    {
     "ename": "AttributeError",
     "evalue": "'dict' object has no attribute 'name'",
     "output_type": "error",
     "traceback": [
      "\u001b[1;31m---------------------------------------------------------------------------\u001b[0m",
      "\u001b[1;31mAttributeError\u001b[0m                            Traceback (most recent call last)",
      "\u001b[1;32m<ipython-input-1-0b00050e07ed>\u001b[0m in \u001b[0;36m<module>\u001b[1;34m()\u001b[0m\n\u001b[0;32m     17\u001b[0m \u001b[0md\u001b[0m\u001b[1;33m[\u001b[0m\u001b[0mkey\u001b[0m\u001b[1;33m]\u001b[0m\u001b[1;33m=\u001b[0m\u001b[0mvalue\u001b[0m\u001b[1;33m\u001b[0m\u001b[0m\n\u001b[0;32m     18\u001b[0m \u001b[0mprint\u001b[0m\u001b[1;33m(\u001b[0m\u001b[0mvalue\u001b[0m\u001b[1;33m,\u001b[0m\u001b[1;34m\"succesfully added\"\u001b[0m\u001b[1;33m)\u001b[0m\u001b[1;33m\u001b[0m\u001b[0m\n\u001b[1;32m---> 19\u001b[1;33m \u001b[0mprint\u001b[0m\u001b[1;33m(\u001b[0m\u001b[0md\u001b[0m\u001b[1;33m.\u001b[0m\u001b[0mname\u001b[0m\u001b[1;33m.\u001b[0m\u001b[0mindex\u001b[0m\u001b[1;33m(\u001b[0m\u001b[1;36m0\u001b[0m\u001b[1;33m)\u001b[0m\u001b[1;33m)\u001b[0m\u001b[1;33m\u001b[0m\u001b[0m\n\u001b[0m",
      "\u001b[1;31mAttributeError\u001b[0m: 'dict' object has no attribute 'name'"
     ]
    }
   ],
   "source": [
    "x=0\n",
    "d ={\n",
    "    'name':'python','scope':'world wide','build_year':'1994',\n",
    "    'frameworks':['Django','flask','web2py','Pyramid'],\n",
    "    'father':'Guido Van Rossum',\n",
    "    'fields':['Scripting','Automation','cloud','ai','ml','data_science','web_designing','software_development']\n",
    "}\n",
    "y=\"fields\"\n",
    "z=\"ai\"\n",
    "print(d.keys())\n",
    "key=input(\"enter a key:\").strip().lower()\n",
    "value=d[key]\n",
    "print(value)\n",
    "#if u want to add any key in the dictionary the u should take input of key and its value\n",
    "key=input(\"enter your new key:\")\n",
    "value=input(\"enter the value of your new key:\")\n",
    "d[key]=value\n",
    "print(value,\"succesfully added\")\n",
    "print(d.name.index(0))"
   ]
  },
  {
   "cell_type": "markdown",
   "metadata": {
    "collapsed": true
   },
   "source": [
    "# SETS"
   ]
  },
  {
   "cell_type": "code",
   "execution_count": 6,
   "metadata": {
    "collapsed": true
   },
   "outputs": [
    {
     "name": "stdout",
     "output_type": "stream",
     "text": [
      "{1, 2, 3, 4, 5, 6}\n",
      "{2, 4, 6}\n",
      "<class 'set'>\n",
      "['__and__', '__class__', '__contains__', '__delattr__', '__dir__', '__doc__', '__eq__', '__format__', '__ge__', '__getattribute__', '__gt__', '__hash__', '__iand__', '__init__', '__init_subclass__', '__ior__', '__isub__', '__iter__', '__ixor__', '__le__', '__len__', '__lt__', '__ne__', '__new__', '__or__', '__rand__', '__reduce__', '__reduce_ex__', '__repr__', '__ror__', '__rsub__', '__rxor__', '__setattr__', '__sizeof__', '__str__', '__sub__', '__subclasshook__', '__xor__', 'add', 'clear', 'copy', 'difference', 'difference_update', 'discard', 'intersection', 'intersection_update', 'isdisjoint', 'issubset', 'issuperset', 'pop', 'remove', 'symmetric_difference', 'symmetric_difference_update', 'union', 'update']\n"
     ]
    }
   ],
   "source": [
    "s={1,2,3,4,6,5}\n",
    "s1={2,4,6}\n",
    "print(s)\n",
    "print(s1)\n",
    "print(type(s))\n",
    "print(dir(s))"
   ]
  },
  {
   "cell_type": "code",
   "execution_count": null,
   "metadata": {
    "collapsed": true
   },
   "outputs": [],
   "source": [
    "Set : functions"
   ]
  },
  {
   "cell_type": "code",
   "execution_count": 10,
   "metadata": {},
   "outputs": [
    {
     "name": "stdout",
     "output_type": "stream",
     "text": [
      "{1, 2, 3, 4, 5, 6}\n",
      "{2, 4, 6}\n",
      "{2, 4, 6}\n",
      "{1, 2, 3, 4, 5, 6}\n",
      "{1, 3, 5}\n"
     ]
    }
   ],
   "source": [
    "s={1,2,3,4,6,5}\n",
    "s1={2,4,6}\n",
    "print(s)\n",
    "print(s1)\n",
    "value=s.intersection(s1)\n",
    "print(value)\n",
    "u=s.union(s1)\n",
    "print(u)\n",
    "p=s.difference(s1)\n",
    "\n",
    "print(p)"
   ]
  },
  {
   "cell_type": "code",
   "execution_count": 5,
   "metadata": {},
   "outputs": [
    {
     "name": "stdout",
     "output_type": "stream",
     "text": [
      "enter a key:1\n",
      "enter a value:p\n",
      "enter a key:2\n",
      "enter a value:l\n",
      "{'1': 'p', '2': 'l'}\n"
     ]
    }
   ],
   "source": [
    "ol=[]\n",
    "il=[]\n",
    "k=input(\"enter a key:\")\n",
    "v=input(\"enter a value:\")\n",
    "il.append(k)\n",
    "il.append(v)\n",
    "ol.append(il)\n",
    "d=dict(ol)\n",
    "il.clear()\n",
    "k1=input(\"enter a key:\")\n",
    "v1=input(\"enter a value:\")\n",
    "il.append(k1)\n",
    "il.append(v1)\n",
    "ol.append(il)\n",
    "d.update(ol)\n",
    "print(d)\n",
    "\n",
    "\n"
   ]
  },
  {
   "cell_type": "markdown",
   "metadata": {
    "collapsed": true
   },
   "source": [
    "# Day-4(31-may)"
   ]
  },
  {
   "cell_type": "markdown",
   "metadata": {
    "collapsed": true
   },
   "source": [
    "# OPERATORS"
   ]
  },
  {
   "cell_type": "markdown",
   "metadata": {},
   "source": [
    "#Operators are of 2 types in python\n",
    "1.Unary\n",
    "2.Binary"
   ]
  },
  {
   "cell_type": "markdown",
   "metadata": {},
   "source": [
    "\n",
    "1.Airthmatic Operator \n",
    "2.Comparison Operator\n",
    "3.Logical operator\n",
    "4.Assignment Operator\n",
    "5.Binary Operator\n",
    "6.Identity Operator\n",
    "7.Membership Operator"
   ]
  },
  {
   "cell_type": "markdown",
   "metadata": {},
   "source": [
    "# 1.AIRTHMATIC OPERATOR"
   ]
  },
  {
   "cell_type": "markdown",
   "metadata": {},
   "source": [
    " \n",
    "a.Addition(+)\n",
    "b.Subtraction(-)\n",
    "c.multiplication(*)\n",
    "d.division(/)\n",
    "e.Modulus(%)\n",
    "f.Floor Division(//)\n",
    "g.Exponent(**)\n"
   ]
  },
  {
   "cell_type": "code",
   "execution_count": 4,
   "metadata": {},
   "outputs": [
    {
     "name": "stdout",
     "output_type": "stream",
     "text": [
      "enter value of x=5\n",
      "enter value of y=6\n",
      "additon of 5 and 6 is 11 \n",
      "hiuser\n",
      "[1, 2, 3, 4, 5, 6]\n",
      "(1, 2, 'ho', 4, 5, 6, 'hello')\n"
     ]
    }
   ],
   "source": [
    "#addition operator\n",
    "x=int(input(\"enter value of x=\"))\n",
    "y=int(input(\"enter value of y=\"))\n",
    "z=x+y\n",
    "print(\"additon of {} and {} is {} \".format(x,y,z))\n",
    "x=\"hi\"\n",
    "y=\"user\"\n",
    "print(x+y)\n",
    "#dictionary cannot be added \n",
    "l=[1,2,3]\n",
    "l1=[4,5,6]\n",
    "print(l+l1)\n",
    "t=(1,2,\"ho\")\n",
    "t1=(4,5,6,\"hello\")\n",
    "print(t+t1)\n",
    "#sets cannot be processed by arthematic operators\n",
    "\n"
   ]
  },
  {
   "cell_type": "code",
   "execution_count": 5,
   "metadata": {},
   "outputs": [
    {
     "name": "stdout",
     "output_type": "stream",
     "text": [
      "-1\n"
     ]
    }
   ],
   "source": [
    "#Subtraction\n",
    "a=5\n",
    "b=6\n",
    "c=a-b\n",
    "print(c)\n",
    "#subtaction cannot process tuple list string dictionary set"
   ]
  },
  {
   "cell_type": "code",
   "execution_count": 6,
   "metadata": {},
   "outputs": [
    {
     "name": "stdout",
     "output_type": "stream",
     "text": [
      "30\n",
      "hello worldhello worldhello worldhello worldhello world\n"
     ]
    }
   ],
   "source": [
    "# Multiplication\n",
    "a=5\n",
    "b=6\n",
    "c=a*b\n",
    "print(c)\n",
    "#string cannot be multipled with string but can be multiplied byint\n",
    "z=\"hello world\"\n",
    "m=z*a\n",
    "print(m)\n",
    "#list cannot be multiplied with list bt can work when multiplied with interger \n",
    "#similarly with tuple"
   ]
  },
  {
   "cell_type": "code",
   "execution_count": 9,
   "metadata": {},
   "outputs": [
    {
     "name": "stdout",
     "output_type": "stream",
     "text": [
      "2.0\n",
      "0\n",
      "2\n"
     ]
    }
   ],
   "source": [
    "#Division\n",
    "#it can work only on integer\n",
    "x=6\n",
    "y=3\n",
    "z=x/y #it always gives absolute questant\n",
    "print(z) \n",
    "z=x%y # it always gives remaider\n",
    "print(z)\n",
    "z=x//y\n",
    "print(z) # it always gives questant"
   ]
  },
  {
   "cell_type": "code",
   "execution_count": 10,
   "metadata": {},
   "outputs": [
    {
     "name": "stdout",
     "output_type": "stream",
     "text": [
      "125\n"
     ]
    }
   ],
   "source": [
    "#Exponent\n",
    "z=5\n",
    "y=3\n",
    "x=(z**y)\n",
    "print(x)"
   ]
  },
  {
   "cell_type": "markdown",
   "metadata": {},
   "source": [
    "# 2.Comparison operator"
   ]
  },
  {
   "cell_type": "markdown",
   "metadata": {},
   "source": [
    "1.Less than (<)\n",
    "2.Less than equal to(<=)\n",
    "3.Greater Than (>)\n",
    "4.Greater than equals to (>=)\n",
    "5.EQUALS TO EQUALS TO (==)\n",
    "6.Not Equals to (!=)"
   ]
  },
  {
   "cell_type": "code",
   "execution_count": 12,
   "metadata": {},
   "outputs": [
    {
     "name": "stdout",
     "output_type": "stream",
     "text": [
      "6<8 True\n",
      "8<6 False\n",
      "6<=6 True\n",
      "6<=3 False\n",
      "5>6 False\n",
      "6>5 True\n",
      "6>=6 True\n",
      "6>=5 True\n"
     ]
    }
   ],
   "source": [
    "print(\"6<8\",6<8)\n",
    "print(\"8<6\",8<6)\n",
    "print(\"6<=6\",6<=6)\n",
    "print(\"6<=3\",6<=3)\n",
    "print(\"5>6\",5>6)\n",
    "print(\"6>5\",6>5)\n",
    "print(\"6>=6\",6>=6)\n",
    "print(\"6>=5\",6>=5)"
   ]
  },
  {
   "cell_type": "markdown",
   "metadata": {},
   "source": [
    "# 3.Logical Operator"
   ]
  },
  {
   "cell_type": "markdown",
   "metadata": {},
   "source": [
    "1.and\n",
    "2.or\n",
    "3.not"
   ]
  },
  {
   "cell_type": "code",
   "execution_count": 13,
   "metadata": {},
   "outputs": [
    {
     "name": "stdout",
     "output_type": "stream",
     "text": [
      "0\n",
      "False\n",
      "False\n"
     ]
    }
   ],
   "source": [
    "print(6-4*3+6 and 6<5)\n",
    "print(6-4*3+6 or 6<5)\n",
    "print(not True)"
   ]
  },
  {
   "cell_type": "code",
   "execution_count": null,
   "metadata": {
    "collapsed": true
   },
   "outputs": [],
   "source": [
    "# print(6 and 12)"
   ]
  },
  {
   "cell_type": "code",
   "execution_count": 16,
   "metadata": {},
   "outputs": [
    {
     "name": "stdout",
     "output_type": "stream",
     "text": [
      "{1: 'key'}\n"
     ]
    }
   ],
   "source": [
    "print((1,2) and {1:\"key\"})"
   ]
  },
  {
   "cell_type": "code",
   "execution_count": 22,
   "metadata": {},
   "outputs": [
    {
     "name": "stdout",
     "output_type": "stream",
     "text": [
      "X\tY\tand\tor\n",
      "True\tTrue\tTrue\tTrue\n",
      "True\tFalse\tFalse\tTrue\n",
      "False\tTrue\tFalse\tTrue\n",
      "False\tFalse\tFalse\tFalse\n"
     ]
    }
   ],
   "source": [
    "x= True\n",
    "y= False\n",
    "print(\"X\\tY\\tand\\tor\")\n",
    "print(\"{}\\t{}\\t{}\\t{}\".format(x,x,x and x,x or x ))\n",
    "print(\"{}\\t{}\\t{}\\t{}\".format(x,y,x and y,x or y))\n",
    "print(\"{}\\t{}\\t{}\\t{}\".format(y,x,x and y,x or y))\n",
    "print(\"{}\\t{}\\t{}\\t{}\".format(y,y,x and y,y or y))"
   ]
  },
  {
   "cell_type": "markdown",
   "metadata": {},
   "source": [
    "# Assignment Operator\n"
   ]
  },
  {
   "cell_type": "code",
   "execution_count": 23,
   "metadata": {
    "scrolled": true
   },
   "outputs": [
    {
     "name": "stdout",
     "output_type": "stream",
     "text": [
      "somethings\n"
     ]
    }
   ],
   "source": [
    "x=\"somethings\"\n",
    "print(x)"
   ]
  },
  {
   "cell_type": "markdown",
   "metadata": {
    "collapsed": true
   },
   "source": [
    "# Membership Operator"
   ]
  },
  {
   "cell_type": "code",
   "execution_count": 7,
   "metadata": {},
   "outputs": [
    {
     "name": "stdout",
     "output_type": "stream",
     "text": [
      "False\n",
      "True\n",
      "True\n",
      "True\n"
     ]
    }
   ],
   "source": [
    "# in and not in are two membership operator\n",
    "s=\"dog is an animal\"\n",
    "k=\"dog\" in s\n",
    "z=\"ani\" in s\n",
    "x=\"cat\"not in s\n",
    "y=\"dog\" not in s\n",
    "print(y)\n",
    "print(x)\n",
    "print(z)\n",
    "print(k)"
   ]
  },
  {
   "cell_type": "code",
   "execution_count": 10,
   "metadata": {},
   "outputs": [
    {
     "name": "stdout",
     "output_type": "stream",
     "text": [
      "not found\n"
     ]
    }
   ],
   "source": [
    "l1=[1,2,3,4]\n",
    "l2=[3,4]\n",
    "if l2 in l1 :\n",
    "    print(\"list2 found in l1\")\n",
    "else:\n",
    "    print(\"not found\")"
   ]
  },
  {
   "cell_type": "code",
   "execution_count": 11,
   "metadata": {},
   "outputs": [
    {
     "name": "stdout",
     "output_type": "stream",
     "text": [
      "enter a no:5\n",
      "no is availaible\n"
     ]
    }
   ],
   "source": [
    "l=[1,2,3,4,5,6,8,58,64,45]\n",
    "if int(input(\"enter a no:\")) in l:\n",
    "    print(\"no is availaible\")\n",
    "else:\n",
    "    print(no is not avaailaible)"
   ]
  },
  {
   "cell_type": "code",
   "execution_count": 16,
   "metadata": {},
   "outputs": [
    {
     "name": "stdout",
     "output_type": "stream",
     "text": [
      "what you want:········\n",
      "what you want:········\n",
      "match tie\n"
     ]
    }
   ],
   "source": [
    "\n",
    "from getpass import getpass\n",
    "l=[('r','s'),('s','p'),('p','r')]\n",
    "l2=[('s','r'),('p','s'),('r','p')]\n",
    "p1=getpass(\"what you want:\")\n",
    "p2=getpass(\"what you want:\")\n",
    "if (p1,p2) in l :\n",
    "        print(\"p1 wins\")\n",
    "elif (p1,p2) in l2:\n",
    "    print(\"p2 wins\")\n",
    "else:\n",
    "    print(\"match tie\")\n",
    "  "
   ]
  },
  {
   "cell_type": "markdown",
   "metadata": {},
   "source": [
    "# Identity Operator"
   ]
  },
  {
   "cell_type": "code",
   "execution_count": 18,
   "metadata": {},
   "outputs": [
    {
     "name": "stdout",
     "output_type": "stream",
     "text": [
      "True\n",
      "False\n",
      "enter any no:5\n",
      "enter any no6\n",
      "both are diff\n"
     ]
    }
   ],
   "source": [
    "# is and is not are used\n",
    "x=5\n",
    "y=5\n",
    "print(x is y)\n",
    "print(x is not y)\n",
    "p=input(\"enter any no:\")\n",
    "q=input(\"enter any no\")\n",
    "if p is q:\n",
    "    print(\"both r equal\")\n",
    "else :\n",
    "    print(\"both are diff\")"
   ]
  },
  {
   "cell_type": "code",
   "execution_count": null,
   "metadata": {
    "collapsed": true
   },
   "outputs": [],
   "source": []
  }
 ],
 "metadata": {
  "kernelspec": {
   "display_name": "Python 3",
   "language": "python",
   "name": "python3"
  },
  "language_info": {
   "codemirror_mode": {
    "name": "ipython",
    "version": 3
   },
   "file_extension": ".py",
   "mimetype": "text/x-python",
   "name": "python",
   "nbconvert_exporter": "python",
   "pygments_lexer": "ipython3",
   "version": "3.6.3"
  }
 },
 "nbformat": 4,
 "nbformat_minor": 2
}
