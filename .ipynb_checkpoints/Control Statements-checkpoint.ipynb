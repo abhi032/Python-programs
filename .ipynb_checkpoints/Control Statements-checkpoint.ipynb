{
 "cells": [
  {
   "cell_type": "markdown",
   "metadata": {
    "collapsed": true
   },
   "source": [
    "# if else \n",
    "known as control statement as becoz they controls the flow of data\n",
    "#syntax\n",
    "#if condition : (: use to defined a block of any code)\n",
    "    #statement1\n",
    "    #statement2\n",
    "    #upto n statement\n",
    "#else:\n",
    "    #statement1\n",
    "    #upto n"
   ]
  },
  {
   "cell_type": "code",
   "execution_count": 2,
   "metadata": {},
   "outputs": [
    {
     "name": "stdout",
     "output_type": "stream",
     "text": [
      "enter a no:4\n",
      "the given no 4 is even\n"
     ]
    }
   ],
   "source": [
    "#program for checkina no even or odd\n",
    "x=int(input(\"enter a no:\"))\n",
    "if x%2==0:\n",
    "    print(\"the given no {} is even\".format(x))\n",
    "else:\n",
    "    print(\"the given no {} is odd\".format(x))"
   ]
  },
  {
   "cell_type": "code",
   "execution_count": 9,
   "metadata": {},
   "outputs": [
    {
     "name": "stdout",
     "output_type": "stream",
     "text": [
      "enter a no:-5\n",
      "enter another no:-2\n",
      "enter the 3rd no:-7\n",
      "the biggest no is -2\n"
     ]
    }
   ],
   "source": [
    "x=int(input(\"enter a no:\"))\n",
    "y=int(input(\"enter another no:\"))\n",
    "z=int(input(\"enter the 3rd no:\"))\n",
    "if x>=y and x>=z :\n",
    "    print(\"the biggest no is {}\".format(x))\n",
    "elif y>=z and y>=x :\n",
    "    print(\"the biggest no is {}\".format(y))\n",
    "else :\n",
    "    print(\"the biggest  no is {}\".format(z))"
   ]
  },
  {
   "cell_type": "markdown",
   "metadata": {
    "collapsed": true
   },
   "source": [
    "# Blood donor and acceptor programm"
   ]
  },
  {
   "cell_type": "code",
   "execution_count": 16,
   "metadata": {},
   "outputs": [
    {
     "name": "stdout",
     "output_type": "stream",
     "text": [
      "are u a donor or Accepter:don\n",
      "who r u? as u r not donor and accepter both\n"
     ]
    }
   ],
   "source": [
    "#file landing should be used\n",
    "x=input(\"are u a donor or Accepter:\").lower().strip()\n",
    "z=['ab+','a+','a-','o+','o-','b+','b-','ab-']\n",
    "if x==\"donor\" :\n",
    "        y = input(\"enter your blood group:\").lower().strip()\n",
    "        if z.count(y)<=0 :\n",
    "            print(\"no info about your blood is available and we can't store it\")\n",
    "        else:\n",
    "            print(\"your blood is succesfully recieved by us ,thank you\")\n",
    "            k=z.append(y)\n",
    "\n",
    "elif x==\"accepter\":\n",
    "    m=input(\"enter the blood group you need:\").lower().strip()\n",
    "    n=input(\"how many bottles of the blood you need:\")\n",
    "    if z.count(m)>=1 :\n",
    "                       \n",
    "                       print(\"blood is availaible\")\n",
    "                       print(\"only {} bottle available,u can recieve it\".format(z.count(m)))\n",
    "                       z.remove(m)\n",
    "                       print(\"blood available in blood bank:\",*z)\n",
    "    else :\n",
    "                                 print(\"not availaible\")\n",
    "                                 print(\"available blood for blood groups are :\",z)\n",
    "else:\n",
    "    print(\"who r u? as u r not donor and accepter both\")\n",
    "    \n",
    "    "
   ]
  },
  {
   "cell_type": "code",
   "execution_count": null,
   "metadata": {
    "collapsed": true
   },
   "outputs": [],
   "source": [
    "a=input(\"donor or acceptor\")\n",
    "c=input(\"enter your blood group\")\n",
    "b=input(\"donor or acceptor\")\n",
    "d=input(\"enter your blood group\")\n",
    "if a==b:\n",
    "    print(\"only 1 can donate at a time\")\n",
    "else :\n",
    "    if c==d :\n",
    "        print(\"you can donate to each other\")\n",
    "    else :\n",
    "        print(\"you cannot donate \")"
   ]
  },
  {
   "cell_type": "code",
   "execution_count": null,
   "metadata": {
    "collapsed": true
   },
   "outputs": [],
   "source": []
  }
 ],
 "metadata": {
  "kernelspec": {
   "display_name": "Python 3",
   "language": "python",
   "name": "python3"
  },
  "language_info": {
   "codemirror_mode": {
    "name": "ipython",
    "version": 3
   },
   "file_extension": ".py",
   "mimetype": "text/x-python",
   "name": "python",
   "nbconvert_exporter": "python",
   "pygments_lexer": "ipython3",
   "version": "3.6.3"
  }
 },
 "nbformat": 4,
 "nbformat_minor": 2
}
