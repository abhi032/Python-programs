{
 "cells": [
  {
   "cell_type": "markdown",
   "metadata": {},
   "source": [
    "# <h1 color=\"red\">File handling in Python</h1>"
   ]
  },
  {
   "cell_type": "code",
   "execution_count": null,
   "metadata": {
    "collapsed": true
   },
   "outputs": [],
   "source": [
    "file are of two types\n",
    "1.byte file(binary)\n",
    "2.text(utf-8 charcters)\n",
    "#to open any image in python we use a open function\n",
    "2.open(filename with path,mode,buffer size)\n",
    "bt we cannot give buffer size\n",
    "open function always returns pointer which reads and write data\n",
    "ex :)\n",
    "fp=open(fname,mode)\n",
    "now Mode are of 3 types\n",
    "1.read >always used to only view the data\n",
    "2.write>always used to overwrite the data\n",
    "3.append>not affect all the data and start writing the data \n"
   ]
  },
  {
   "cell_type": "markdown",
   "metadata": {},
   "source": [
    "#Read mode has four option\n",
    "1. \"r\"  >read only\n",
    "2. \"r+\" >read and write mode\n",
    "3. \"rb\" >used to open a byte file(ex-Audio file and video file)(read only)\n",
    "4. \"rb+\">>used to open a byte file(ex-Audio file and video file)and write it in (read and write both)"
   ]
  },
  {
   "cell_type": "markdown",
   "metadata": {},
   "source": [
    "#Write mode has four option\n",
    "1. \"w\"  >write only(\"for overwrite\")\n",
    "2. \"w+\" >write and read\n",
    "3. \"wb\" >write those file file which exists in byte file\n",
    "4. \"wb+\">write those file file which exists in byte file and read it\n"
   ]
  },
  {
   "cell_type": "markdown",
   "metadata": {},
   "source": [
    "#Append mode\n",
    "1. \"a\"  >to write data in file without affecting the old data\n",
    "2. \"a+\" >to write data in file without affecting the old data and read it\n",
    "3. \"ab\" >to write data in file without affecting the old data write byte file \n",
    "4. \"ab+\">to write data in file without affecting the old data read byte file and write it in"
   ]
  },
  {
   "cell_type": "code",
   "execution_count": 6,
   "metadata": {
    "collapsed": true
   },
   "outputs": [],
   "source": [
    "#opening a file:\n",
    "f=open(\"C:\\\\Users\\\\abhishek khandelwal\\\\desktop\\\\o.txt\",\"w\")"
   ]
  },
  {
   "cell_type": "code",
   "execution_count": 9,
   "metadata": {},
   "outputs": [
    {
     "name": "stdout",
     "output_type": "stream",
     "text": [
      "file name= C:\\Users\\abhishek khandelwal\\desktop\\o.txt\n",
      " w\n"
     ]
    }
   ],
   "source": [
    "print(\"file name=\",f.name)\n",
    "print(\"\",f.mode)"
   ]
  },
  {
   "cell_type": "code",
   "execution_count": 11,
   "metadata": {},
   "outputs": [
    {
     "name": "stdout",
     "output_type": "stream",
     "text": [
      "can i read this file: False\n",
      "can i write this file: True\n",
      "True\n"
     ]
    }
   ],
   "source": [
    "print(\"can i read this file:\",f.readable())\n",
    "print(\"can i write this file:\",f.writable())\n",
    "print(f.seekable())"
   ]
  },
  {
   "cell_type": "code",
   "execution_count": 12,
   "metadata": {
    "collapsed": true
   },
   "outputs": [],
   "source": [
    "f.write(\"hello guys, this is file handling in python\")\n",
    "f.write(\"\\n\")\n",
    "f.write(\"\\t\\t python is awesome\")\n",
    "f.close()"
   ]
  },
  {
   "cell_type": "code",
   "execution_count": 3,
   "metadata": {},
   "outputs": [
    {
     "name": "stdout",
     "output_type": "stream",
     "text": [
      "hello guys, this is file handling in python\n",
      "\t\t python is awesome\n"
     ]
    }
   ],
   "source": [
    "#to read above file\n",
    "f=open(\"C:\\\\Users\\\\abhishek khandelwal\\\\desktop\\\\o.txt\",\"r\")\n",
    "data=f.read()\n",
    "print(data)"
   ]
  },
  {
   "cell_type": "code",
   "execution_count": 5,
   "metadata": {},
   "outputs": [
    {
     "name": "stdout",
     "output_type": "stream",
     "text": [
      "hello guys, this is file handling in python\n",
      "\t\t python is awesome\n"
     ]
    }
   ],
   "source": [
    "f.seek(0)\n",
    "d=f.read()\n",
    "print(d)\n",
    "#seek function is used to move pointer in file\n",
    "#m=f.seek(10)\n",
    "#print(m)"
   ]
  },
  {
   "cell_type": "code",
   "execution_count": 21,
   "metadata": {},
   "outputs": [
    {
     "name": "stdout",
     "output_type": "stream",
     "text": [
      "10\n"
     ]
    }
   ],
   "source": [
    "print(f.tell())"
   ]
  },
  {
   "cell_type": "code",
   "execution_count": null,
   "metadata": {},
   "outputs": [
    {
     "name": "stdout",
     "output_type": "stream",
     "text": [
      "\n",
      "\n",
      "\n",
      "**************************************************\n",
      "Welcome to Python Bank\n",
      "**************************************************\n",
      "\n",
      "\n",
      "1. Login \n",
      "2. Signup \n",
      "3. Admin \n",
      "4. Exit\n",
      "Your Choice : 1\n",
      "\n",
      "\n",
      "\n",
      "Acc Number : 1004\n",
      "\n",
      "\n",
      "No such Account Exists \n",
      "You should signup\n",
      "\n",
      "\n",
      "\n",
      "\n",
      "\n",
      "**************************************************\n",
      "Welcome to Python Bank\n",
      "**************************************************\n",
      "\n",
      "\n",
      "1. Login \n",
      "2. Signup \n",
      "3. Admin \n",
      "4. Exit\n"
     ]
    }
   ],
   "source": [
    "import json\n",
    "from getpass import getpass\n",
    "bank = { \n",
    "        'user' : [ 'ram', 'sam','vijay' ],\n",
    "        'acc' : [ 1001, 1002, 1003 ],\n",
    "        'password' : [ 'grras@123', 'something', 'redhat'],\n",
    "        'balance' : [ 10000.23, 20000.45, 124322.234]\n",
    "        }\n",
    "admin = 'root'\n",
    "admin_password = 'redhat@123'\n",
    "f=open(\"bank.txt\",\"r+\")\n",
    "while True :\n",
    "    \n",
    "    print(\"\\n\\n\")\n",
    "    print(\"*\"*50)\n",
    "    print(\"Welcome to Python Bank\")\n",
    "    print(\"*\"*50)\n",
    "    print(\"\\n\\n1. Login \\n2. Signup \\n3. Admin \\n4. Exit\")\n",
    "    ch = int(input(\"Your Choice : \"))\n",
    "    \n",
    "    if ch == 1 :\n",
    "        print(\"\\n\\n\")\n",
    "        uacc = int(input(\"Acc Number : \"))\n",
    "        if uacc in bank['acc'] :\n",
    "            upass = getpass(\"Password : \")\n",
    "            index = bank['acc'].index(uacc)\n",
    "            if upass == bank['password'][index]:\n",
    "                while True :\n",
    "                    print(\"\\n\\n1. Debit\\n2. Credit\\n3. Check Balance\\n4. Change Password \\n5. Logout\")\n",
    "                    ch = int(input(\"Choice : \"))\n",
    "                    if ch == 1 :\n",
    "                        ab=bank['balance'][index]\n",
    "                        print(\"\\n \\nAvailable balance : \",ab)\n",
    "                        da=int(input(\"\\nenter the amount to debit : \"))\n",
    "                        if da<=ab:\n",
    "                            print(\"\\ncollect your cash\")\n",
    "                            ab=ab-da\n",
    "                            print(\"\\nAvailable balance after withdrawl: \",ab)\n",
    "                            \n",
    "                        else:\n",
    "                            print(\"\\n insufficient balance\")\n",
    "                            break\n",
    "                        \n",
    "                    elif ch == 2 :\n",
    "                        ca=int(input(\"\\nEnter the amount you want to credit : \"))\n",
    "                        bank['balance'][index] += ca\n",
    "                        print(\"\\nAccount balance after crediting money : \",bank['balance'][index])\n",
    "                \n",
    "                    elif ch == 3:\n",
    "                        print(\"\\nYour Account balance is : \",bank['balance'][index])                        \n",
    "                    elif ch == 4 : \n",
    "                        op=getpass(\"\\n enter your old password : \")\n",
    "                        pp=bank['password'][index]\n",
    "                        if op==pp:\n",
    "                            np=getpass(\"\\n enter new password : \")\n",
    "                            cp=getpass(\"\\n confirn new password : \")\n",
    "                            if np==cp:\n",
    "                                bank['password'][index] = np\n",
    "                                print(\"\\n password changed successfully : \")\n",
    "                                t=str(bank)\n",
    "                                f.write(t)\n",
    "                                json.dump(bank,f)\n",
    "                            else:\n",
    "                                print(\"\\n password do not match, Try again : \")\n",
    "                        else:\n",
    "                            print(\"\\n Old password do not match : \")\n",
    "                    elif ch == 5 :\n",
    "                        print(\"\\nLogging you out.....\\n\")\n",
    "                        break\n",
    "                    else :\n",
    "                        print(\"\\n\\nInvalid Choice \")\n",
    "                        print(\"Try Again\")\n",
    "            else :\n",
    "                print(\"\\n\\nInvalid Password\\n\\nTry Again\")\n",
    "            \n",
    "        else :\n",
    "            print(\"\\n\\nNo such Account Exists \\nYou should signup\\n\\n\")\n",
    "    elif ch == 2 :\n",
    "        acc = bank['acc'][-1] + 1\n",
    "        name = input(\"Username : \")\n",
    "        bal = float(input(\"Initial Blance : \"))\n",
    "        password = getpass(\"Set Password : \")\n",
    "        bank['user'].append(name)\n",
    "        bank['acc'].append(acc)\n",
    "        bank['password'].append(password)\n",
    "        bank['balance'].append(bal)\n",
    "        print(\"\\nAccount Sucessfully Created\")\n",
    "        print(\"Note down your account num :  {}\".format(acc))\n",
    "        t=str(bank)\n",
    "        f.write(t)\n",
    "        json.dump(bank,f)\n",
    "        print(\"Now you can login\\n\")\n",
    "    elif ch == 3 :\n",
    "        username = input(\"\\nEnter name : \").strip().lower()\n",
    "        password = getpass()\n",
    "        if username == admin : \n",
    "            if password == admin_password :\n",
    "                print()\n",
    "                data=f.read()\n",
    "                print(data)\n",
    "            else :\n",
    "                print(\"\\nInvalid password \\nTry Again\")\n",
    "        else :\n",
    "            print(\"\\nThis user is not an admin.\")\n",
    "    elif ch == 4 :\n",
    "        ch = input(\"\\n\\nDo really want to exit ? (y/n) : \").strip().lower()\n",
    "        if ch == 'y' or ch == 'yes' :      \n",
    "            print(\"\\nThanks for useing our services \")\n",
    "            break\n",
    "    else :\n",
    "        print(\"\\nInvalidChoice\\nTry again\")"
   ]
  },
  {
   "cell_type": "code",
   "execution_count": null,
   "metadata": {
    "collapsed": true
   },
   "outputs": [],
   "source": []
  }
 ],
 "metadata": {
  "kernelspec": {
   "display_name": "Python 3",
   "language": "python",
   "name": "python3"
  },
  "language_info": {
   "codemirror_mode": {
    "name": "ipython",
    "version": 3
   },
   "file_extension": ".py",
   "mimetype": "text/x-python",
   "name": "python",
   "nbconvert_exporter": "python",
   "pygments_lexer": "ipython3",
   "version": "3.6.3"
  }
 },
 "nbformat": 4,
 "nbformat_minor": 2
}
