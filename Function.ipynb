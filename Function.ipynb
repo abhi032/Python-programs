{
 "cells": [
  {
   "cell_type": "markdown",
   "metadata": {},
   "source": [
    "# Function in Python"
   ]
  },
  {
   "cell_type": "markdown",
   "metadata": {},
   "source": [
    "#def is a keyword used to give defination of any fuction\n",
    "#function is defined as set of statements that performs specific tasks\n",
    "#when we call functions then it executes the given statements\n",
    "\n"
   ]
  },
  {
   "cell_type": "markdown",
   "metadata": {},
   "source": [
    "# Syntax of function"
   ]
  },
  {
   "cell_type": "markdown",
   "metadata": {},
   "source": [
    "def functionname(argument):\n",
    "    statement-1\n",
    "    upto n\n",
    "    return"
   ]
  },
  {
   "cell_type": "code",
   "execution_count": 2,
   "metadata": {
    "collapsed": true
   },
   "outputs": [],
   "source": [
    "def hello():\n",
    "    x=input(\"enter your name:\")\n",
    "    print(\"welcome {} to python\".format(x))"
   ]
  },
  {
   "cell_type": "code",
   "execution_count": 3,
   "metadata": {},
   "outputs": [
    {
     "name": "stdout",
     "output_type": "stream",
     "text": [
      "enter your name:nmae\n",
      "welcome nmae to python\n",
      "None\n"
     ]
    }
   ],
   "source": [
    "x=hello()\n",
    "print(x)"
   ]
  },
  {
   "cell_type": "code",
   "execution_count": 9,
   "metadata": {
    "collapsed": true
   },
   "outputs": [],
   "source": [
    "def calc(x,y,ch):\n",
    "    if ch ==\"+\":\n",
    "        return x+y\n",
    "    elif ch ==\"-\":\n",
    "        return x-y\n",
    "    elif ch==\"*\":\n",
    "        return x*y\n",
    "    elif ch==\"/\" or ch==\"//\" or ch==\"%\":\n",
    "        if y==0:\n",
    "            return \"x cannot be divided by zero\"\n",
    "        else :\n",
    "            if ch==\"/\":\n",
    "                return x/y\n",
    "            elif ch==\"//\":\n",
    "                return x//y\n",
    "            elif ch==\"%\":\n",
    "                return x%y\n",
    "    elif ch==\"**\":\n",
    "            return x**y\n",
    "    else:\n",
    "        return \"not a valid operation\""
   ]
  },
  {
   "cell_type": "code",
   "execution_count": 15,
   "metadata": {},
   "outputs": [
    {
     "ename": "SyntaxError",
     "evalue": "invalid syntax (<ipython-input-15-fb9c79456745>, line 1)",
     "output_type": "error",
     "traceback": [
      "\u001b[1;36m  File \u001b[1;32m\"<ipython-input-15-fb9c79456745>\"\u001b[1;36m, line \u001b[1;32m1\u001b[0m\n\u001b[1;33m    while x=input(\"do you want to use calculator:\"):\u001b[0m\n\u001b[1;37m           ^\u001b[0m\n\u001b[1;31mSyntaxError\u001b[0m\u001b[1;31m:\u001b[0m invalid syntax\n"
     ]
    }
   ],
   "source": [
    "while input(\"do you want to use calculator:\"):\n",
    "        print(\"*\"*75)\n",
    "        print(\"\\n\\n\\n\\nWelcome to calculator:\")\n",
    "        print(\"*\"*75)\n",
    "        a=int(input(\"enter first no:\"))\n",
    "        b=int(input(\"enter another no:\"))\n",
    "        c=input(\"your operation form these{+,-,//,/,*,**}:\")\n",
    "        r=calc(a,b,c)\n",
    "        print(\"result:\",r)"
   ]
  },
  {
   "cell_type": "code",
   "execution_count": 3,
   "metadata": {
    "collapsed": true
   },
   "outputs": [],
   "source": [
    "def convert_Dict(p,q,r,s):\n",
    "    \"\"\"convert_Dict()->it is a function used to convert a tuple into dictionary\"\"\"\n",
    "    l=[p,q,r,s]\n",
    "    d=dict(l)\n",
    "    return d\n",
    "    "
   ]
  },
  {
   "cell_type": "code",
   "execution_count": 6,
   "metadata": {
    "scrolled": true
   },
   "outputs": [
    {
     "name": "stdout",
     "output_type": "stream",
     "text": [
      "**  given entries in form of =    **\n",
      "enter your name:name=abhi\n",
      "enter your nickname:nick=abhi\n",
      "enter your mobile no:mob=985587\n",
      "enter your four digit pin:pin=5858\n",
      "{'name': 'abhi', 'nick': 'abhi', 'mob': '985587', 'pin': '5858'}\n"
     ]
    }
   ],
   "source": [
    "print(\"**  given entries in form of =    **\")\n",
    "a=input(\"enter your name:\").split(\"=\")\n",
    "b=input(\"enter your nickname:\").split(\"=\")\n",
    "c=input(\"enter your mobile no:\").split(\"=\")\n",
    "d=input(\"enter your four digit pin:\").split(\"=\")\n",
    "m=convert_Dict(a,b,c,d)\n",
    "print(m)\n"
   ]
  },
  {
   "cell_type": "markdown",
   "metadata": {
    "collapsed": true
   },
   "source": [
    "# GLOBAL VARIABLE"
   ]
  },
  {
   "cell_type": "code",
   "execution_count": 4,
   "metadata": {},
   "outputs": [
    {
     "name": "stdout",
     "output_type": "stream",
     "text": [
      "global variable= 10\n"
     ]
    }
   ],
   "source": [
    "#We can only acces global variable bt can't change it \n",
    "#global variable is a shared variable every function can acess it\n",
    "#Example\n",
    "# local variable are those which exists in memory till function calling and they get wipe when fuction calling ends\n",
    "x=10 #here x is global variable\n",
    "def hey():\n",
    "    print(\"global variable=\",x)\n",
    "hey()    "
   ]
  },
  {
   "cell_type": "code",
   "execution_count": 5,
   "metadata": {},
   "outputs": [
    {
     "name": "stdout",
     "output_type": "stream",
     "text": [
      "global variable before fn calling: 10\n",
      "global variable x= 20\n",
      "global variable After fn calling: 20\n"
     ]
    }
   ],
   "source": [
    "x=10\n",
    "def change():\n",
    "    global x\n",
    "    #by defining any global variable in any function by using this statement we can change the value of global variable\n",
    "    x=x+10\n",
    "    print(\"global variable x=\",x)\n",
    "print(\"global variable before fn calling:\",x)\n",
    "change()\n",
    "print(\"global variable After fn calling:\",x)\n",
    "    "
   ]
  },
  {
   "cell_type": "markdown",
   "metadata": {},
   "source": [
    "# lambda function"
   ]
  },
  {
   "cell_type": "code",
   "execution_count": 10,
   "metadata": {},
   "outputs": [
    {
     "data": {
      "text/plain": [
       "2"
      ]
     },
     "execution_count": 10,
     "metadata": {},
     "output_type": "execute_result"
    }
   ],
   "source": [
    "add=lambda x,y:x if x>y else y\n",
    "add(1,2)"
   ]
  },
  {
   "cell_type": "code",
   "execution_count": 11,
   "metadata": {},
   "outputs": [
    {
     "name": "stdout",
     "output_type": "stream",
     "text": [
      "120\n"
     ]
    }
   ],
   "source": [
    "factorial=lambda y: y*factorial(y-1) if y>0 else 1\n",
    "a=factorial(5)\n",
    "print(a)"
   ]
  },
  {
   "cell_type": "markdown",
   "metadata": {},
   "source": [
    "# Map function\n",
    "\n",
    "\n",
    "\n",
    "\n",
    "\n",
    "\n",
    "\n",
    "\n",
    "\n",
    "\n"
   ]
  },
  {
   "cell_type": "code",
   "execution_count": 6,
   "metadata": {},
   "outputs": [
    {
     "name": "stdout",
     "output_type": "stream",
     "text": [
      "2 5 8 6 9\n",
      "2 5 8 6 9\n"
     ]
    }
   ],
   "source": [
    "x=list(map(int,input().split()))\n",
    "y=list(map(int,input().split()))\n",
    "print(list(map(lambda x,y:x+y,x,y)))"
   ]
  },
  {
   "cell_type": "code",
   "execution_count": 7,
   "metadata": {
    "scrolled": true
   },
   "outputs": [
    {
     "name": "stdout",
     "output_type": "stream",
     "text": [
      "2 5 8 5  78 549  68 \n",
      "True False True False True False True\n"
     ]
    }
   ],
   "source": [
    "x=list(map(int,input().split()))\n",
    "print(*list(map(lambda x:True if x%2==0 else False,x)))"
   ]
  },
  {
   "cell_type": "markdown",
   "metadata": {},
   "source": [
    "# Filter function"
   ]
  },
  {
   "cell_type": "code",
   "execution_count": 21,
   "metadata": {},
   "outputs": [
    {
     "name": "stdout",
     "output_type": "stream",
     "text": [
      "2 4 6 8 10\n"
     ]
    }
   ],
   "source": [
    "l=[1,2,3,4,5,6,7,8,9,10]\n",
    "r=filter(lambda x:True if x%2==0 else False,l)\n",
    "print(*r)\n"
   ]
  },
  {
   "cell_type": "markdown",
   "metadata": {},
   "source": [
    "# Reduce function"
   ]
  },
  {
   "cell_type": "code",
   "execution_count": null,
   "metadata": {
    "collapsed": true
   },
   "outputs": [],
   "source": []
  },
  {
   "cell_type": "markdown",
   "metadata": {},
   "source": [
    "# Prime no in line"
   ]
  },
  {
   "cell_type": "code",
   "execution_count": null,
   "metadata": {
    "collapsed": true
   },
   "outputs": [],
   "source": [
    "print(lambda x: for i in"
   ]
  }
 ],
 "metadata": {
  "kernelspec": {
   "display_name": "Python 3",
   "language": "python",
   "name": "python3"
  },
  "language_info": {
   "codemirror_mode": {
    "name": "ipython",
    "version": 3
   },
   "file_extension": ".py",
   "mimetype": "text/x-python",
   "name": "python",
   "nbconvert_exporter": "python",
   "pygments_lexer": "ipython3",
   "version": "3.6.3"
  }
 },
 "nbformat": 4,
 "nbformat_minor": 2
}
